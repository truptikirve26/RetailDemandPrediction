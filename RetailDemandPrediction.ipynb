{
 "cells": [
  {
   "cell_type": "markdown",
   "id": "23940604",
   "metadata": {},
   "source": [
    "Goal: \n",
    "      \n",
    "      - Design a framework to address the business Problem\n",
    "\n",
    "      - Converting Business Problem into Data Problem\n",
    "      \n",
    "      - Derive Interesting Insights from the data\n",
    "      \n",
    "      - Build and Tune Machine Learning Models\n",
    "      \n",
    "      - Share results with correct stakeholders\n",
    "      "
   ]
  },
  {
   "cell_type": "markdown",
   "id": "c3dd37a3",
   "metadata": {},
   "source": [
    "**Problem Statement:** \n",
    "Prevent overstocking and understocking of Items by forecasting demand of items for the next week, based on historical data."
   ]
  },
  {
   "cell_type": "markdown",
   "id": "c7fa79c8",
   "metadata": {},
   "source": [
    "**Data Description:**\n",
    "\n",
    "Train Data- \n",
    "- **WEEK_END_DATE** - week ending date\n",
    "- **STORE_NUM** - store number\n",
    "- **UPC** - (Universal Product Code) product specific identifier\n",
    "- **BASE_PRICE** - base price of item\n",
    "- **DISPLAY** - product was a part of in-store promotional display\n",
    "- **FEATURE** - product was in in-store circular\n",
    "- **UNITS** - units sold (target)\n",
    "\n",
    "Product Data-\n",
    "- **UPC** - (Universal Product Code) product specific identifier\n",
    "- **DESCRIPTION**\t- product description\n",
    "- **MANUFACTURER** - product\tmanufacturer\n",
    "- **CATEGORY** - category of product\n",
    "- **SUB_CATEGORY** - sub-category of product\n",
    "- **PRODUCT_SIZE** - package size or quantity of product\n",
    "\n",
    "Store Data-\n",
    "- **STORE_ID** - store number\n",
    "- **STORE_NAME** - Name of store\n",
    "- **ADDRESS_CITY_NAME** - city\n",
    "- **ADDRESS_STATE_PROV_CODE** - state\n",
    "- **MSA_CODE** - (Metropolitan Statistical Area) Based on geographic region and population density\n",
    "- **SEG_VALUE_NAME** - Store Segment Name\n",
    "- **PARKING_SPACE_QTY** - number of parking spaces in the store parking lot\n",
    "- **SALES_AREA_SIZE_NUM** - square footage of store\n",
    "- **AVG_WEEKLY_BASKETS** - average weekly baskets sold in the store"
   ]
  },
  {
   "cell_type": "code",
   "execution_count": 1,
   "id": "790987f8",
   "metadata": {},
   "outputs": [],
   "source": [
    "# import libraries\n",
    "import seaborn as sns\n",
    "import pandas as pd\n",
    "import numpy as np\n",
    "import random\n",
    "\n",
    "sns.set_context('notebook', font_scale=1.5)\n",
    "\n",
    "import matplotlib.pyplot as plt\n",
    "\n",
    "import warnings\n",
    "warnings.filterwarnings(\"ignore\")\n"
   ]
  },
  {
   "cell_type": "markdown",
   "id": "398eb024",
   "metadata": {},
   "source": [
    "We have multiple datasets available for the project\n",
    "- Weekly Sales Data:  Contains transaction data of products\n",
    "- Product Data: Consists of details about the product\n",
    "- Stores Data: Consists of details of various stores associated with the retailer\n",
    "Let's look at the datasets one by one\n",
    "\n"
   ]
  },
  {
   "cell_type": "code",
   "execution_count": 15,
   "id": "568eb779",
   "metadata": {},
   "outputs": [],
   "source": [
    "# reading the data files\n",
    "train = pd.read_csv('train.csv')\n",
    "product_data = pd.read_csv('product_data.csv')\n",
    "store_data = pd.read_csv('store_data.csv')"
   ]
  },
  {
   "cell_type": "code",
   "execution_count": 19,
   "id": "50fa1e78",
   "metadata": {},
   "outputs": [
    {
     "data": {
      "text/plain": [
       "((232287, 7), (30, 6), (76, 9))"
      ]
     },
     "execution_count": 19,
     "metadata": {},
     "output_type": "execute_result"
    }
   ],
   "source": [
    "#checking the size of the dataframe\n",
    "train.shape, product_data.shape, store_data.shape"
   ]
  },
  {
   "cell_type": "markdown",
   "id": "0908c2f0",
   "metadata": {},
   "source": [
    "## Understanding and Validating Data"
   ]
  },
  {
   "cell_type": "markdown",
   "id": "465f7b67",
   "metadata": {},
   "source": [
    "### Train Data"
   ]
  },
  {
   "cell_type": "code",
   "execution_count": 20,
   "id": "daeb98f0",
   "metadata": {},
   "outputs": [
    {
     "data": {
      "text/html": [
       "<div>\n",
       "<style scoped>\n",
       "    .dataframe tbody tr th:only-of-type {\n",
       "        vertical-align: middle;\n",
       "    }\n",
       "\n",
       "    .dataframe tbody tr th {\n",
       "        vertical-align: top;\n",
       "    }\n",
       "\n",
       "    .dataframe thead th {\n",
       "        text-align: right;\n",
       "    }\n",
       "</style>\n",
       "<table border=\"1\" class=\"dataframe\">\n",
       "  <thead>\n",
       "    <tr style=\"text-align: right;\">\n",
       "      <th></th>\n",
       "      <th>WEEK_END_DATE</th>\n",
       "      <th>STORE_NUM</th>\n",
       "      <th>UPC</th>\n",
       "      <th>BASE_PRICE</th>\n",
       "      <th>FEATURE</th>\n",
       "      <th>DISPLAY</th>\n",
       "      <th>UNITS</th>\n",
       "    </tr>\n",
       "  </thead>\n",
       "  <tbody>\n",
       "    <tr>\n",
       "      <th>0</th>\n",
       "      <td>14-Jan-09</td>\n",
       "      <td>367</td>\n",
       "      <td>1111009477</td>\n",
       "      <td>1.57</td>\n",
       "      <td>0</td>\n",
       "      <td>0</td>\n",
       "      <td>13</td>\n",
       "    </tr>\n",
       "    <tr>\n",
       "      <th>1</th>\n",
       "      <td>14-Jan-09</td>\n",
       "      <td>367</td>\n",
       "      <td>1111009497</td>\n",
       "      <td>1.39</td>\n",
       "      <td>0</td>\n",
       "      <td>0</td>\n",
       "      <td>20</td>\n",
       "    </tr>\n",
       "    <tr>\n",
       "      <th>2</th>\n",
       "      <td>14-Jan-09</td>\n",
       "      <td>367</td>\n",
       "      <td>1111085319</td>\n",
       "      <td>1.88</td>\n",
       "      <td>0</td>\n",
       "      <td>0</td>\n",
       "      <td>14</td>\n",
       "    </tr>\n",
       "    <tr>\n",
       "      <th>3</th>\n",
       "      <td>14-Jan-09</td>\n",
       "      <td>367</td>\n",
       "      <td>1111085345</td>\n",
       "      <td>1.88</td>\n",
       "      <td>0</td>\n",
       "      <td>0</td>\n",
       "      <td>29</td>\n",
       "    </tr>\n",
       "    <tr>\n",
       "      <th>4</th>\n",
       "      <td>14-Jan-09</td>\n",
       "      <td>367</td>\n",
       "      <td>1111085350</td>\n",
       "      <td>1.98</td>\n",
       "      <td>0</td>\n",
       "      <td>0</td>\n",
       "      <td>35</td>\n",
       "    </tr>\n",
       "  </tbody>\n",
       "</table>\n",
       "</div>"
      ],
      "text/plain": [
       "  WEEK_END_DATE  STORE_NUM         UPC  BASE_PRICE  FEATURE  DISPLAY  UNITS\n",
       "0     14-Jan-09        367  1111009477        1.57        0        0     13\n",
       "1     14-Jan-09        367  1111009497        1.39        0        0     20\n",
       "2     14-Jan-09        367  1111085319        1.88        0        0     14\n",
       "3     14-Jan-09        367  1111085345        1.88        0        0     29\n",
       "4     14-Jan-09        367  1111085350        1.98        0        0     35"
      ]
     },
     "execution_count": 20,
     "metadata": {},
     "output_type": "execute_result"
    }
   ],
   "source": [
    "# print first five rows\n",
    "train.head()"
   ]
  },
  {
   "cell_type": "code",
   "execution_count": 21,
   "id": "5dd2982d",
   "metadata": {},
   "outputs": [
    {
     "data": {
      "text/plain": [
       "WEEK_END_DATE     object\n",
       "STORE_NUM          int64\n",
       "UPC                int64\n",
       "BASE_PRICE       float64\n",
       "FEATURE            int64\n",
       "DISPLAY            int64\n",
       "UNITS              int64\n",
       "dtype: object"
      ]
     },
     "execution_count": 21,
     "metadata": {},
     "output_type": "execute_result"
    }
   ],
   "source": [
    "# checking the datatypes of the columns in the train file\n",
    "train.dtypes"
   ]
  },
  {
   "cell_type": "markdown",
   "id": "4bb45a5e",
   "metadata": {},
   "source": [
    "As per the above output, the train data has 7 columns and \n",
    "- WEEK_END_DATE is a datetime field but its saved as an object\n",
    "- STORE_NUM and UPC are saved as an int but they are categorical features\n",
    "\n",
    "\n",
    "\n",
    "\n",
    "**DateTime Variables**\n",
    "- Identify the duration of the data\n",
    "- Start and end dates\n",
    "- Is there any missing duration?\n",
    "\n",
    "\n",
    "**Categorical Features**\n",
    "- Check the unique values for the categorical features\n",
    "- Are there any missing values in the variables?\n",
    "- Is there any variable with high cardinality/sparsity ?\n",
    "\n",
    "\n",
    "**Numerical Variables**\n",
    "- Check the distribution of numerical variables?\n",
    "- Are there any extreme values?\n",
    "- Are there any missing values"
   ]
  },
  {
   "cell_type": "markdown",
   "id": "d3bb92ae",
   "metadata": {},
   "source": [
    "### WEEK_END_DATE"
   ]
  },
  {
   "cell_type": "code",
   "execution_count": 23,
   "id": "245032f3",
   "metadata": {},
   "outputs": [],
   "source": [
    "# convert the variable into datetime format\n",
    "train['WEEK_END_DATE'] = pd.to_datetime(train['WEEK_END_DATE'])"
   ]
  },
  {
   "cell_type": "code",
   "execution_count": 25,
   "id": "96b1c9f2",
   "metadata": {},
   "outputs": [
    {
     "data": {
      "text/plain": [
       "0"
      ]
     },
     "execution_count": 25,
     "metadata": {},
     "output_type": "execute_result"
    }
   ],
   "source": [
    "train['WEEK_END_DATE'].isnull().sum()"
   ]
  },
  {
   "cell_type": "code",
   "execution_count": 26,
   "id": "4991fcaf",
   "metadata": {},
   "outputs": [
    {
     "data": {
      "text/plain": [
       "(Timestamp('2009-01-14 00:00:00'), Timestamp('2011-09-28 00:00:00'))"
      ]
     },
     "execution_count": 26,
     "metadata": {},
     "output_type": "execute_result"
    }
   ],
   "source": [
    "train['WEEK_END_DATE'].min(), train['WEEK_END_DATE'].max()"
   ]
  },
  {
   "cell_type": "markdown",
   "id": "dba7900c",
   "metadata": {},
   "source": [
    "The data is collected from 14th Jan 2009 to 28th Sept 2011"
   ]
  },
  {
   "cell_type": "code",
   "execution_count": 28,
   "id": "7d1f2655",
   "metadata": {},
   "outputs": [
    {
     "data": {
      "text/plain": [
       "Timedelta('141 days 00:00:00')"
      ]
     },
     "execution_count": 28,
     "metadata": {},
     "output_type": "execute_result"
    }
   ],
   "source": [
    "# Are there any missing dates in this time period\n",
    "(train['WEEK_END_DATE'].max()  - train['WEEK_END_DATE'].min())/7"
   ]
  },
  {
   "cell_type": "code",
   "execution_count": 29,
   "id": "78168877",
   "metadata": {},
   "outputs": [
    {
     "data": {
      "text/plain": [
       "142"
      ]
     },
     "execution_count": 29,
     "metadata": {},
     "output_type": "execute_result"
    }
   ],
   "source": [
    "train['WEEK_END_DATE'].nunique()"
   ]
  },
  {
   "cell_type": "markdown",
   "id": "f8d2d99e",
   "metadata": {},
   "source": [
    "- The train data is for 142 weeks, based on the unique values in the column\n",
    "- No missing data in that period"
   ]
  },
  {
   "cell_type": "markdown",
   "id": "7c97aa09",
   "metadata": {},
   "source": [
    "### Are all dates at a gap of a week?"
   ]
  },
  {
   "cell_type": "code",
   "execution_count": 31,
   "id": "7d0bf0d9",
   "metadata": {},
   "outputs": [
    {
     "data": {
      "text/plain": [
       "WEEK_END_DATE\n",
       "Wednesday    232287\n",
       "Name: count, dtype: int64"
      ]
     },
     "execution_count": 31,
     "metadata": {},
     "output_type": "execute_result"
    }
   ],
   "source": [
    "# chekcing the day name helps to understand if all the data is at the same period\n",
    "train['WEEK_END_DATE'].dt.day_name().value_counts()\n"
   ]
  },
  {
   "cell_type": "markdown",
   "id": "bfe443c4",
   "metadata": {},
   "source": [
    "### Lets look at the store and UPC data\n",
    "\n"
   ]
  },
  {
   "cell_type": "code",
   "execution_count": 37,
   "id": "dfe05b9c",
   "metadata": {},
   "outputs": [
    {
     "data": {
      "text/plain": [
       "STORE_NUM    0\n",
       "UPC          0\n",
       "dtype: int64"
      ]
     },
     "execution_count": 37,
     "metadata": {},
     "output_type": "execute_result"
    }
   ],
   "source": [
    "train[['STORE_NUM', 'UPC']].isnull().sum()"
   ]
  },
  {
   "cell_type": "code",
   "execution_count": 38,
   "id": "d31dbe93",
   "metadata": {},
   "outputs": [
    {
     "data": {
      "text/plain": [
       "76"
      ]
     },
     "execution_count": 38,
     "metadata": {},
     "output_type": "execute_result"
    }
   ],
   "source": [
    "train['STORE_NUM'].nunique()"
   ]
  },
  {
   "cell_type": "code",
   "execution_count": 41,
   "id": "34197849",
   "metadata": {},
   "outputs": [
    {
     "data": {
      "text/plain": [
       "STORE_NUM\n",
       "8035     1676\n",
       "23055    1823\n",
       "2523     1977\n",
       "11967    2104\n",
       "15755    2253\n",
       "         ... \n",
       "2277     3824\n",
       "21237    3950\n",
       "9825     3955\n",
       "24991    3967\n",
       "2513     4098\n",
       "Name: count, Length: 76, dtype: int64"
      ]
     },
     "execution_count": 41,
     "metadata": {},
     "output_type": "execute_result"
    }
   ],
   "source": [
    "train['STORE_NUM'].value_counts().sort_values()"
   ]
  },
  {
   "cell_type": "markdown",
   "id": "4495d715",
   "metadata": {},
   "source": [
    "There are 76 unique stores and every store is selling multiple products (a minimum of 1676 transactions)\n"
   ]
  },
  {
   "cell_type": "markdown",
   "id": "d22c0588",
   "metadata": {},
   "source": [
    "We have 76 stores and 142 weeks of data for the sales. If each store is selling atleast one item, \n",
    "the miminum number of rows should be 76* 142\n"
   ]
  },
  {
   "cell_type": "code",
   "execution_count": 44,
   "id": "d0d44477",
   "metadata": {},
   "outputs": [
    {
     "data": {
      "text/plain": [
       "10792"
      ]
     },
     "execution_count": 44,
     "metadata": {},
     "output_type": "execute_result"
    }
   ],
   "source": [
    "76 * 142"
   ]
  },
  {
   "cell_type": "code",
   "execution_count": 49,
   "id": "412f4738",
   "metadata": {},
   "outputs": [
    {
     "data": {
      "text/plain": [
       "(10792, 2)"
      ]
     },
     "execution_count": 49,
     "metadata": {},
     "output_type": "execute_result"
    }
   ],
   "source": [
    "train[['WEEK_END_DATE', 'STORE_NUM']].drop_duplicates().shape"
   ]
  },
  {
   "cell_type": "markdown",
   "id": "1c053588",
   "metadata": {},
   "source": [
    "Implies that each store is selling at leats one product per week"
   ]
  },
  {
   "cell_type": "code",
   "execution_count": 50,
   "id": "94c12192",
   "metadata": {},
   "outputs": [
    {
     "data": {
      "text/plain": [
       "30"
      ]
     },
     "execution_count": 50,
     "metadata": {},
     "output_type": "execute_result"
    }
   ],
   "source": [
    "train['UPC'].nunique()"
   ]
  },
  {
   "cell_type": "code",
   "execution_count": 52,
   "id": "1b566888",
   "metadata": {},
   "outputs": [
    {
     "data": {
      "text/plain": [
       "UPC\n",
       "3700044982       975\n",
       "3700031613      1664\n",
       "31254742835     2086\n",
       "7797508004      2386\n",
       "1111038080      2797\n",
       "7797508006      2933\n",
       "31254742735     3202\n",
       "7218063052      3641\n",
       "7797502248      6916\n",
       "1111038078      7131\n",
       "2840004770      7636\n",
       "1111009507      8067\n",
       "1111087396      8131\n",
       "1111087395      8155\n",
       "2840004768      8488\n",
       "7192100336      9126\n",
       "1111087398      9989\n",
       "1111009477     10356\n",
       "1111009497     10498\n",
       "7192100337     10588\n",
       "1111085319     10636\n",
       "3800031829     10640\n",
       "3800039118     10766\n",
       "7192100339     10767\n",
       "1111085350     10775\n",
       "3800031838     10785\n",
       "1600027564     10786\n",
       "1600027528     10788\n",
       "1111085345     10789\n",
       "1600027527     10790\n",
       "Name: count, dtype: int64"
      ]
     },
     "execution_count": 52,
     "metadata": {},
     "output_type": "execute_result"
    }
   ],
   "source": [
    "train['UPC'].value_counts().sort_values()"
   ]
  },
  {
   "cell_type": "markdown",
   "id": "9136d028",
   "metadata": {},
   "source": [
    "Every product has 975 transactions in the train data"
   ]
  },
  {
   "cell_type": "markdown",
   "id": "5b314159",
   "metadata": {},
   "source": [
    "### Is every product sold atleast once, for all 142 weeks?\n"
   ]
  },
  {
   "cell_type": "code",
   "execution_count": 53,
   "id": "5c88b8d1",
   "metadata": {},
   "outputs": [
    {
     "data": {
      "text/plain": [
       "(4260, 2)"
      ]
     },
     "execution_count": 53,
     "metadata": {},
     "output_type": "execute_result"
    }
   ],
   "source": [
    "train[['WEEK_END_DATE', 'UPC']].drop_duplicates().shape"
   ]
  },
  {
   "cell_type": "code",
   "execution_count": 54,
   "id": "7fd8d10a",
   "metadata": {},
   "outputs": [
    {
     "data": {
      "text/plain": [
       "4260"
      ]
     },
     "execution_count": 54,
     "metadata": {},
     "output_type": "execute_result"
    }
   ],
   "source": [
    "30 *142"
   ]
  },
  {
   "cell_type": "markdown",
   "id": "a5247dc1",
   "metadata": {},
   "source": [
    "- We have 30 unique products\n",
    "- There are 76 different stores associated with the retailer\n",
    "- Both the variables do not have any missing values"
   ]
  },
  {
   "cell_type": "markdown",
   "id": "07c4806d",
   "metadata": {},
   "source": [
    "### Is each store selling each product throughout the given period?\n",
    "\n",
    "Assuming we have information for the sale of every product  (30) against each store associated (76) and for every week (142), we should be getting 76 *30* 142 rows of data\n"
   ]
  },
  {
   "cell_type": "code",
   "execution_count": 55,
   "id": "817d8318",
   "metadata": {},
   "outputs": [
    {
     "data": {
      "text/plain": [
       "323760"
      ]
     },
     "execution_count": 55,
     "metadata": {},
     "output_type": "execute_result"
    }
   ],
   "source": [
    "76 * 30 * 142"
   ]
  },
  {
   "cell_type": "code",
   "execution_count": 56,
   "id": "03abd58c",
   "metadata": {},
   "outputs": [
    {
     "data": {
      "text/plain": [
       "(232287, 7)"
      ]
     },
     "execution_count": 56,
     "metadata": {},
     "output_type": "execute_result"
    }
   ],
   "source": [
    "train.shape"
   ]
  },
  {
   "cell_type": "code",
   "execution_count": 57,
   "id": "11eca0e7",
   "metadata": {},
   "outputs": [
    {
     "data": {
      "text/plain": [
       "0.7174666419570052"
      ]
     },
     "execution_count": 57,
     "metadata": {},
     "output_type": "execute_result"
    }
   ],
   "source": [
    "232287 / 323760"
   ]
  },
  {
   "cell_type": "markdown",
   "id": "efaa9aba",
   "metadata": {},
   "source": [
    "- We can conclude that all stores are not selling all products each week\n",
    "- Of all the possible combinations, about 72% of teh data is present\n"
   ]
  },
  {
   "cell_type": "code",
   "execution_count": 58,
   "id": "67a55482",
   "metadata": {},
   "outputs": [
    {
     "data": {
      "text/plain": [
       "Index(['WEEK_END_DATE', 'STORE_NUM', 'UPC', 'BASE_PRICE', 'FEATURE', 'DISPLAY',\n",
       "       'UNITS'],\n",
       "      dtype='object')"
      ]
     },
     "execution_count": 58,
     "metadata": {},
     "output_type": "execute_result"
    }
   ],
   "source": [
    "train.columns"
   ]
  },
  {
   "cell_type": "code",
   "execution_count": 63,
   "id": "51fc41ab",
   "metadata": {},
   "outputs": [
    {
     "data": {
      "text/plain": [
       "((232287, 3), (232287, 7))"
      ]
     },
     "execution_count": 63,
     "metadata": {},
     "output_type": "execute_result"
    }
   ],
   "source": [
    "# every store selling a particular product has only one entry, a sthe shape and the unique values are same\n",
    "train[['WEEK_END_DATE',  'STORE_NUM', 'UPC']].drop_duplicates().shape, train.shape"
   ]
  },
  {
   "cell_type": "code",
   "execution_count": 64,
   "id": "9257573a",
   "metadata": {},
   "outputs": [
    {
     "data": {
      "text/plain": [
       "21.523999258710155"
      ]
     },
     "execution_count": 64,
     "metadata": {},
     "output_type": "execute_result"
    }
   ],
   "source": [
    "train.groupby(['WEEK_END_DATE','STORE_NUM'])['UPC'].count().mean()"
   ]
  },
  {
   "cell_type": "markdown",
   "id": "81e21005",
   "metadata": {},
   "source": [
    "- The shape does not change after using drop duplicates\n",
    "- Implies that there are unique combinations for week, store and UPC\n",
    "- On an average, each week we are selling 22 products"
   ]
  },
  {
   "cell_type": "markdown",
   "id": "d3b6871c",
   "metadata": {},
   "source": [
    "### Is a store selling the product throughout the period or is there a break?"
   ]
  },
  {
   "cell_type": "code",
   "execution_count": 68,
   "id": "9562f889",
   "metadata": {},
   "outputs": [
    {
     "data": {
      "text/plain": [
       "STORE_NUM  UPC       \n",
       "4489       1111087396    137\n",
       "19265      7797508006    137\n",
       "21221      7797508004    137\n",
       "6187       1111038080    137\n",
       "23349      2840004768    137\n",
       "                        ... \n",
       "11993      1111085345    142\n",
       "           1111085319    142\n",
       "           1111038080    142\n",
       "           1600027564    142\n",
       "29159      7797508004    142\n",
       "Name: UNITS, Length: 1644, dtype: int64"
      ]
     },
     "execution_count": 68,
     "metadata": {},
     "output_type": "execute_result"
    }
   ],
   "source": [
    "train.groupby(['STORE_NUM','UPC'])['UNITS'].count().sort_values()"
   ]
  },
  {
   "cell_type": "markdown",
   "id": "c6326b76",
   "metadata": {},
   "source": [
    "- Not all the stores are selling all teh products per week, for eg: store 4489 sold the product 1111087396 only 137 times and not 142 time"
   ]
  },
  {
   "cell_type": "markdown",
   "id": "37ce6961",
   "metadata": {},
   "source": [
    "BASE_PRICE"
   ]
  },
  {
   "cell_type": "code",
   "execution_count": null,
   "id": "3f50cbf4",
   "metadata": {},
   "outputs": [],
   "source": [
    "train['BASE_PRICE'].isnull().sum()"
   ]
  },
  {
   "cell_type": "markdown",
   "id": "f7dc81fb",
   "metadata": {},
   "source": [
    "- There are 12 missing values"
   ]
  },
  {
   "cell_type": "code",
   "execution_count": 70,
   "id": "c15aaa4b",
   "metadata": {},
   "outputs": [
    {
     "data": {
      "text/plain": [
       "count    232275.000000\n",
       "mean          3.345204\n",
       "std           1.678181\n",
       "min           0.860000\n",
       "25%           1.950000\n",
       "50%           2.990000\n",
       "75%           4.080000\n",
       "max           7.890000\n",
       "Name: BASE_PRICE, dtype: float64"
      ]
     },
     "execution_count": 70,
     "metadata": {},
     "output_type": "execute_result"
    }
   ],
   "source": [
    "train['BASE_PRICE'].describe()"
   ]
  },
  {
   "cell_type": "markdown",
   "id": "3c140184",
   "metadata": {},
   "source": [
    "The mean and median values are close to each other and the max value is also not so high. No extreme values"
   ]
  },
  {
   "cell_type": "code",
   "execution_count": 79,
   "id": "eb485899",
   "metadata": {},
   "outputs": [
    {
     "data": {
      "image/png": "[encoded data removed]",
      "text/plain": [
       "<Figure size 800x500 with 1 Axes>"
      ]
     },
     "metadata": {},
     "output_type": "display_data"
    }
   ],
   "source": [
    "# distribution of Base Price variable\n",
    "plt.figure(figsize = (8,5))\n",
    "sns.distplot((train['BASE_PRICE'].values), bins=20, kde=True)\n",
    "plt.xlabel('Price Distribution', fontsize =12)\n",
    "plt.show()\n"
   ]
  },
  {
   "cell_type": "markdown",
   "id": "4d16b830",
   "metadata": {},
   "source": [
    "- The most of products are priced at $3 and the min and max values are $1 and $8"
   ]
  },
  {
   "cell_type": "markdown",
   "id": "47d04baf",
   "metadata": {},
   "source": [
    "Feature and Display"
   ]
  },
  {
   "cell_type": "code",
   "execution_count": 80,
   "id": "a0c88b83",
   "metadata": {},
   "outputs": [
    {
     "data": {
      "text/plain": [
       "FEATURE    0\n",
       "DISPLAY    0\n",
       "dtype: int64"
      ]
     },
     "execution_count": 80,
     "metadata": {},
     "output_type": "execute_result"
    }
   ],
   "source": [
    "train[['FEATURE', 'DISPLAY']].isnull().sum()"
   ]
  },
  {
   "cell_type": "code",
   "execution_count": 81,
   "id": "8037c13b",
   "metadata": {},
   "outputs": [
    {
     "data": {
      "text/plain": [
       "FEATURE    int64\n",
       "DISPLAY    int64\n",
       "dtype: object"
      ]
     },
     "execution_count": 81,
     "metadata": {},
     "output_type": "execute_result"
    }
   ],
   "source": [
    "train[['FEATURE', 'DISPLAY']].dtypes"
   ]
  },
  {
   "cell_type": "code",
   "execution_count": 82,
   "id": "09ce6cc9",
   "metadata": {},
   "outputs": [
    {
     "data": {
      "text/plain": [
       "FEATURE    2\n",
       "DISPLAY    2\n",
       "dtype: int64"
      ]
     },
     "execution_count": 82,
     "metadata": {},
     "output_type": "execute_result"
    }
   ],
   "source": [
    "train[['FEATURE', 'DISPLAY']].nunique()"
   ]
  },
  {
   "cell_type": "markdown",
   "id": "a5620077",
   "metadata": {},
   "source": [
    "The variables tell about if a product was featured and dispalyed on the day it was sold. Essentially it should a true false values"
   ]
  },
  {
   "cell_type": "code",
   "execution_count": 84,
   "id": "73bcd8b0",
   "metadata": {},
   "outputs": [
    {
     "data": {
      "text/plain": [
       "FEATURE\n",
       "0    0.900111\n",
       "1    0.099889\n",
       "Name: proportion, dtype: float64"
      ]
     },
     "execution_count": 84,
     "metadata": {},
     "output_type": "execute_result"
    }
   ],
   "source": [
    "train['FEATURE'].value_counts(normalize=True)"
   ]
  },
  {
   "cell_type": "code",
   "execution_count": 85,
   "id": "bcaccb5c",
   "metadata": {},
   "outputs": [],
   "source": [
    "# 90% of the products were not featured on the day it was sold"
   ]
  },
  {
   "cell_type": "code",
   "execution_count": 88,
   "id": "07fac4e1",
   "metadata": {},
   "outputs": [
    {
     "data": {
      "text/plain": [
       "FEATURE\n",
       "0    0.900111\n",
       "1    0.099889\n",
       "Name: proportion, dtype: float64"
      ]
     },
     "execution_count": 88,
     "metadata": {},
     "output_type": "execute_result"
    }
   ],
   "source": [
    "train['FEATURE'].value_counts(normalize=True)"
   ]
  },
  {
   "cell_type": "code",
   "execution_count": 89,
   "id": "42160179",
   "metadata": {},
   "outputs": [
    {
     "data": {
      "text/plain": [
       "<Axes: xlabel='FEATURE'>"
      ]
     },
     "execution_count": 89,
     "metadata": {},
     "output_type": "execute_result"
    },
    {
     "data": {
      "image/png": "[encoded data removed]",
      "text/plain": [
       "<Figure size 640x480 with 1 Axes>"
      ]
     },
     "metadata": {},
     "output_type": "display_data"
    }
   ],
   "source": [
    "train['FEATURE'].value_counts(normalize=True).plot(kind='bar')"
   ]
  },
  {
   "cell_type": "markdown",
   "id": "ac4d051a",
   "metadata": {},
   "source": [
    "- Approimately 10% of teh product are featured"
   ]
  },
  {
   "cell_type": "code",
   "execution_count": 90,
   "id": "7e71978d",
   "metadata": {},
   "outputs": [
    {
     "data": {
      "text/plain": [
       "DISPLAY\n",
       "0    200928\n",
       "1     31359\n",
       "Name: count, dtype: int64"
      ]
     },
     "execution_count": 90,
     "metadata": {},
     "output_type": "execute_result"
    }
   ],
   "source": [
    "train['DISPLAY'].value_counts()"
   ]
  },
  {
   "cell_type": "code",
   "execution_count": 91,
   "id": "968e5615",
   "metadata": {},
   "outputs": [
    {
     "data": {
      "text/plain": [
       "DISPLAY\n",
       "0    0.864999\n",
       "1    0.135001\n",
       "Name: proportion, dtype: float64"
      ]
     },
     "execution_count": 91,
     "metadata": {},
     "output_type": "execute_result"
    }
   ],
   "source": [
    "train['DISPLAY'].value_counts(normalize=True)"
   ]
  },
  {
   "cell_type": "code",
   "execution_count": 92,
   "id": "4575fcd5",
   "metadata": {},
   "outputs": [
    {
     "data": {
      "text/plain": [
       "<Axes: xlabel='DISPLAY'>"
      ]
     },
     "execution_count": 92,
     "metadata": {},
     "output_type": "execute_result"
    },
    {
     "data": {
      "image/png": "[encoded data removed]",
      "text/plain": [
       "<Figure size 640x480 with 1 Axes>"
      ]
     },
     "metadata": {},
     "output_type": "display_data"
    }
   ],
   "source": [
    "train['DISPLAY'].value_counts(normalize=True).plot(kind='bar')"
   ]
  },
  {
   "cell_type": "markdown",
   "id": "c5c9ea79",
   "metadata": {},
   "source": [
    "- 13% of the products are displayed on teh day it was sold"
   ]
  },
  {
   "cell_type": "code",
   "execution_count": 99,
   "id": "6926e49e",
   "metadata": {},
   "outputs": [
    {
     "data": {
      "text/html": [
       "<div>\n",
       "<style scoped>\n",
       "    .dataframe tbody tr th:only-of-type {\n",
       "        vertical-align: middle;\n",
       "    }\n",
       "\n",
       "    .dataframe tbody tr th {\n",
       "        vertical-align: top;\n",
       "    }\n",
       "\n",
       "    .dataframe thead th {\n",
       "        text-align: right;\n",
       "    }\n",
       "</style>\n",
       "<table border=\"1\" class=\"dataframe\">\n",
       "  <thead>\n",
       "    <tr style=\"text-align: right;\">\n",
       "      <th>DISPLAY</th>\n",
       "      <th>0</th>\n",
       "      <th>1</th>\n",
       "    </tr>\n",
       "    <tr>\n",
       "      <th>FEATURE</th>\n",
       "      <th></th>\n",
       "      <th></th>\n",
       "    </tr>\n",
       "  </thead>\n",
       "  <tbody>\n",
       "    <tr>\n",
       "      <th>0</th>\n",
       "      <td>0.821824</td>\n",
       "      <td>0.078287</td>\n",
       "    </tr>\n",
       "    <tr>\n",
       "      <th>1</th>\n",
       "      <td>0.043175</td>\n",
       "      <td>0.056714</td>\n",
       "    </tr>\n",
       "  </tbody>\n",
       "</table>\n",
       "</div>"
      ],
      "text/plain": [
       "DISPLAY         0         1\n",
       "FEATURE                    \n",
       "0        0.821824  0.078287\n",
       "1        0.043175  0.056714"
      ]
     },
     "execution_count": 99,
     "metadata": {},
     "output_type": "execute_result"
    }
   ],
   "source": [
    "# identifying if the product was featured and dispalyed on the same day it was sold\n",
    "pd.crosstab(train['FEATURE'], train['DISPLAY']).apply(lambda r :r/len(train))"
   ]
  },
  {
   "cell_type": "markdown",
   "id": "22cb99bc",
   "metadata": {},
   "source": [
    "82 % the product was not featured or not displayed. Only 5 % of the times the product was featured and dispalyed on the day it was sold"
   ]
  },
  {
   "cell_type": "markdown",
   "id": "c736252d",
   "metadata": {},
   "source": [
    "### Distribution of traget variable Units\n"
   ]
  },
  {
   "cell_type": "code",
   "execution_count": 101,
   "id": "588860be",
   "metadata": {},
   "outputs": [
    {
     "data": {
      "text/plain": [
       "0"
      ]
     },
     "execution_count": 101,
     "metadata": {},
     "output_type": "execute_result"
    }
   ],
   "source": [
    "train['UNITS'].isnull().sum()"
   ]
  },
  {
   "cell_type": "code",
   "execution_count": 102,
   "id": "e90ac731",
   "metadata": {},
   "outputs": [
    {
     "data": {
      "text/plain": [
       "count    232287.000000\n",
       "mean         28.063525\n",
       "std          35.954341\n",
       "min           0.000000\n",
       "25%           9.000000\n",
       "50%          18.000000\n",
       "75%          34.000000\n",
       "max        1800.000000\n",
       "Name: UNITS, dtype: float64"
      ]
     },
     "execution_count": 102,
     "metadata": {},
     "output_type": "execute_result"
    }
   ],
   "source": [
    "train['UNITS'].describe()"
   ]
  },
  {
   "cell_type": "markdown",
   "id": "36ab4290",
   "metadata": {},
   "source": [
    "- The range of values is very high\n",
    "- Minimum number of units sold is 0 and themaximum is 1800\n",
    "- A huge difference between 75th percentile and the max value indicates presence of outliers"
   ]
  },
  {
   "cell_type": "code",
   "execution_count": 103,
   "id": "1ee095e6",
   "metadata": {},
   "outputs": [
    {
     "data": {
      "text/plain": [
       "WEEK_END_DATE    1\n",
       "STORE_NUM        1\n",
       "UPC              1\n",
       "BASE_PRICE       1\n",
       "FEATURE          1\n",
       "DISPLAY          1\n",
       "UNITS            1\n",
       "dtype: int64"
      ]
     },
     "execution_count": 103,
     "metadata": {},
     "output_type": "execute_result"
    }
   ],
   "source": [
    "train[train['UNITS']==0].nunique()"
   ]
  },
  {
   "cell_type": "code",
   "execution_count": 104,
   "id": "2bc8ce47",
   "metadata": {},
   "outputs": [
    {
     "data": {
      "text/html": [
       "<div>\n",
       "<style scoped>\n",
       "    .dataframe tbody tr th:only-of-type {\n",
       "        vertical-align: middle;\n",
       "    }\n",
       "\n",
       "    .dataframe tbody tr th {\n",
       "        vertical-align: top;\n",
       "    }\n",
       "\n",
       "    .dataframe thead th {\n",
       "        text-align: right;\n",
       "    }\n",
       "</style>\n",
       "<table border=\"1\" class=\"dataframe\">\n",
       "  <thead>\n",
       "    <tr style=\"text-align: right;\">\n",
       "      <th></th>\n",
       "      <th>WEEK_END_DATE</th>\n",
       "      <th>STORE_NUM</th>\n",
       "      <th>UPC</th>\n",
       "      <th>BASE_PRICE</th>\n",
       "      <th>FEATURE</th>\n",
       "      <th>DISPLAY</th>\n",
       "      <th>UNITS</th>\n",
       "    </tr>\n",
       "  </thead>\n",
       "  <tbody>\n",
       "    <tr>\n",
       "      <th>76752</th>\n",
       "      <td>2009-12-02</td>\n",
       "      <td>28909</td>\n",
       "      <td>31254742735</td>\n",
       "      <td>4.99</td>\n",
       "      <td>0</td>\n",
       "      <td>0</td>\n",
       "      <td>0</td>\n",
       "    </tr>\n",
       "  </tbody>\n",
       "</table>\n",
       "</div>"
      ],
      "text/plain": [
       "      WEEK_END_DATE  STORE_NUM          UPC  BASE_PRICE  FEATURE  DISPLAY  \\\n",
       "76752    2009-12-02      28909  31254742735        4.99        0        0   \n",
       "\n",
       "       UNITS  \n",
       "76752      0  "
      ]
     },
     "execution_count": 104,
     "metadata": {},
     "output_type": "execute_result"
    }
   ],
   "source": [
    "train[train['UNITS']==0]"
   ]
  },
  {
   "cell_type": "markdown",
   "id": "5234338e",
   "metadata": {},
   "source": [
    "- Only one entry with 0 items sold\n",
    "- Indicates the given store does not sell that item\n",
    "- A data anomaly and will not be useful in model training"
   ]
  },
  {
   "cell_type": "code",
   "execution_count": 107,
   "id": "5d7a440d",
   "metadata": {},
   "outputs": [],
   "source": [
    "train = train[train['UNITS']!=0]"
   ]
  },
  {
   "cell_type": "code",
   "execution_count": 105,
   "id": "0b3d513c",
   "metadata": {},
   "outputs": [
    {
     "data": {
      "text/html": [
       "<div>\n",
       "<style scoped>\n",
       "    .dataframe tbody tr th:only-of-type {\n",
       "        vertical-align: middle;\n",
       "    }\n",
       "\n",
       "    .dataframe tbody tr th {\n",
       "        vertical-align: top;\n",
       "    }\n",
       "\n",
       "    .dataframe thead th {\n",
       "        text-align: right;\n",
       "    }\n",
       "</style>\n",
       "<table border=\"1\" class=\"dataframe\">\n",
       "  <thead>\n",
       "    <tr style=\"text-align: right;\">\n",
       "      <th></th>\n",
       "      <th>WEEK_END_DATE</th>\n",
       "      <th>STORE_NUM</th>\n",
       "      <th>UPC</th>\n",
       "      <th>BASE_PRICE</th>\n",
       "      <th>FEATURE</th>\n",
       "      <th>DISPLAY</th>\n",
       "      <th>UNITS</th>\n",
       "    </tr>\n",
       "  </thead>\n",
       "  <tbody>\n",
       "    <tr>\n",
       "      <th>7960</th>\n",
       "      <td>2009-02-11</td>\n",
       "      <td>25027</td>\n",
       "      <td>1600027527</td>\n",
       "      <td>3.19</td>\n",
       "      <td>1</td>\n",
       "      <td>1</td>\n",
       "      <td>1800</td>\n",
       "    </tr>\n",
       "  </tbody>\n",
       "</table>\n",
       "</div>"
      ],
      "text/plain": [
       "     WEEK_END_DATE  STORE_NUM         UPC  BASE_PRICE  FEATURE  DISPLAY  UNITS\n",
       "7960    2009-02-11      25027  1600027527        3.19        1        1   1800"
      ]
     },
     "execution_count": 105,
     "metadata": {},
     "output_type": "execute_result"
    }
   ],
   "source": [
    "train[train['UNITS']==1800]"
   ]
  },
  {
   "cell_type": "code",
   "execution_count": 111,
   "id": "821edb0b",
   "metadata": {},
   "outputs": [
    {
     "data": {
      "image/png": "[encoded data removed]",
      "text/plain": [
       "<Figure size 800x600 with 1 Axes>"
      ]
     },
     "metadata": {},
     "output_type": "display_data"
    }
   ],
   "source": [
    "plt.figure(figsize=(8,6))\n",
    "plt.scatter(x= range(train.shape[0]), y= np.sort(train['UNITS'].values))\n",
    "plt.xlabel('Index')\n",
    "plt.ylabel('units sold')\n",
    "plt.show()"
   ]
  },
  {
   "cell_type": "markdown",
   "id": "099ed152",
   "metadata": {},
   "source": [
    "- Most of the values are less than 250\n",
    "- There are a few outliers with one value way outside the range"
   ]
  },
  {
   "cell_type": "code",
   "execution_count": 112,
   "id": "8c8b0cdd",
   "metadata": {},
   "outputs": [
    {
     "data": {
      "text/html": [
       "<div>\n",
       "<style scoped>\n",
       "    .dataframe tbody tr th:only-of-type {\n",
       "        vertical-align: middle;\n",
       "    }\n",
       "\n",
       "    .dataframe tbody tr th {\n",
       "        vertical-align: top;\n",
       "    }\n",
       "\n",
       "    .dataframe thead th {\n",
       "        text-align: right;\n",
       "    }\n",
       "</style>\n",
       "<table border=\"1\" class=\"dataframe\">\n",
       "  <thead>\n",
       "    <tr style=\"text-align: right;\">\n",
       "      <th></th>\n",
       "      <th>WEEK_END_DATE</th>\n",
       "      <th>STORE_NUM</th>\n",
       "      <th>UPC</th>\n",
       "      <th>BASE_PRICE</th>\n",
       "      <th>FEATURE</th>\n",
       "      <th>DISPLAY</th>\n",
       "      <th>UNITS</th>\n",
       "    </tr>\n",
       "  </thead>\n",
       "  <tbody>\n",
       "    <tr>\n",
       "      <th>7893</th>\n",
       "      <td>2009-02-11</td>\n",
       "      <td>24991</td>\n",
       "      <td>1600027527</td>\n",
       "      <td>3.19</td>\n",
       "      <td>1</td>\n",
       "      <td>0</td>\n",
       "      <td>1006</td>\n",
       "    </tr>\n",
       "    <tr>\n",
       "      <th>7960</th>\n",
       "      <td>2009-02-11</td>\n",
       "      <td>25027</td>\n",
       "      <td>1600027527</td>\n",
       "      <td>3.19</td>\n",
       "      <td>1</td>\n",
       "      <td>1</td>\n",
       "      <td>1800</td>\n",
       "    </tr>\n",
       "    <tr>\n",
       "      <th>9597</th>\n",
       "      <td>2009-02-18</td>\n",
       "      <td>25027</td>\n",
       "      <td>1600027527</td>\n",
       "      <td>3.19</td>\n",
       "      <td>0</td>\n",
       "      <td>1</td>\n",
       "      <td>1054</td>\n",
       "    </tr>\n",
       "    <tr>\n",
       "      <th>11209</th>\n",
       "      <td>2009-02-25</td>\n",
       "      <td>25027</td>\n",
       "      <td>1600027527</td>\n",
       "      <td>3.19</td>\n",
       "      <td>1</td>\n",
       "      <td>1</td>\n",
       "      <td>1136</td>\n",
       "    </tr>\n",
       "  </tbody>\n",
       "</table>\n",
       "</div>"
      ],
      "text/plain": [
       "      WEEK_END_DATE  STORE_NUM         UPC  BASE_PRICE  FEATURE  DISPLAY  \\\n",
       "7893     2009-02-11      24991  1600027527        3.19        1        0   \n",
       "7960     2009-02-11      25027  1600027527        3.19        1        1   \n",
       "9597     2009-02-18      25027  1600027527        3.19        0        1   \n",
       "11209    2009-02-25      25027  1600027527        3.19        1        1   \n",
       "\n",
       "       UNITS  \n",
       "7893    1006  \n",
       "7960    1800  \n",
       "9597    1054  \n",
       "11209   1136  "
      ]
     },
     "execution_count": 112,
     "metadata": {},
     "output_type": "execute_result"
    }
   ],
   "source": [
    "train[train['UNITS'] > 1000]"
   ]
  },
  {
   "cell_type": "markdown",
   "id": "6157b18c",
   "metadata": {},
   "source": [
    "- There is only one value with units 1800 and few rows with units more than 1000, we will explore more, when we see the products data"
   ]
  },
  {
   "cell_type": "code",
   "execution_count": 114,
   "id": "d8771c14",
   "metadata": {},
   "outputs": [
    {
     "data": {
      "image/png": "[encoded data removed]",
      "text/plain": [
       "<Figure size 800x600 with 1 Axes>"
      ]
     },
     "metadata": {},
     "output_type": "display_data"
    }
   ],
   "source": [
    "# distribution of units variable\n",
    "plt.figure(figsize=(8,6))\n",
    "sns.distplot((train['UNITS'].values), bins=20, kde=True)\n",
    "plt.xlabel('Units Sold')\n",
    "plt.show()\n"
   ]
  },
  {
   "cell_type": "markdown",
   "id": "76728f21",
   "metadata": {},
   "source": [
    "The above graph is right skewed and is because of the few values aboue 1000. Hence following a log transformation\n"
   ]
  },
  {
   "cell_type": "code",
   "execution_count": 118,
   "id": "d65f28c5",
   "metadata": {},
   "outputs": [
    {
     "data": {
      "image/png": "[encoded data removed]",
      "text/plain": [
       "<Figure size 800x600 with 1 Axes>"
      ]
     },
     "metadata": {},
     "output_type": "display_data"
    }
   ],
   "source": [
    "# log transfomed units column\n",
    "plt.figure(figsize=(8,6))\n",
    "sns.distplot(np.log(train['UNITS'].values), bins=20, kde=True)\n",
    "plt.xlabel('Log Units Sold')\n",
    "plt.show()"
   ]
  },
  {
   "cell_type": "markdown",
   "id": "c7cfd686",
   "metadata": {},
   "source": [
    "The distribution looks close to normal distribution"
   ]
  },
  {
   "cell_type": "code",
   "execution_count": null,
   "id": "0a4041ec",
   "metadata": {},
   "outputs": [],
   "source": []
  },
  {
   "cell_type": "code",
   "execution_count": null,
   "id": "367eb498",
   "metadata": {},
   "outputs": [],
   "source": []
  },
  {
   "cell_type": "code",
   "execution_count": null,
   "id": "392c81c0",
   "metadata": {},
   "outputs": [],
   "source": []
  },
  {
   "cell_type": "code",
   "execution_count": 119,
   "id": "3a5ebcc7",
   "metadata": {},
   "outputs": [],
   "source": [
    "### Understanding the Product Data"
   ]
  },
  {
   "cell_type": "code",
   "execution_count": 139,
   "id": "502f1bf3",
   "metadata": {},
   "outputs": [
    {
     "data": {
      "text/html": [
       "<div>\n",
       "<style scoped>\n",
       "    .dataframe tbody tr th:only-of-type {\n",
       "        vertical-align: middle;\n",
       "    }\n",
       "\n",
       "    .dataframe tbody tr th {\n",
       "        vertical-align: top;\n",
       "    }\n",
       "\n",
       "    .dataframe thead th {\n",
       "        text-align: right;\n",
       "    }\n",
       "</style>\n",
       "<table border=\"1\" class=\"dataframe\">\n",
       "  <thead>\n",
       "    <tr style=\"text-align: right;\">\n",
       "      <th></th>\n",
       "      <th>UPC</th>\n",
       "      <th>DESCRIPTION</th>\n",
       "      <th>MANUFACTURER</th>\n",
       "      <th>CATEGORY</th>\n",
       "      <th>SUB_CATEGORY</th>\n",
       "      <th>PRODUCT_SIZE</th>\n",
       "    </tr>\n",
       "  </thead>\n",
       "  <tbody>\n",
       "    <tr>\n",
       "      <th>0</th>\n",
       "      <td>1111009477</td>\n",
       "      <td>PL MINI TWIST PRETZELS</td>\n",
       "      <td>PRIVATE LABEL</td>\n",
       "      <td>BAG SNACKS</td>\n",
       "      <td>PRETZELS</td>\n",
       "      <td>15 OZ</td>\n",
       "    </tr>\n",
       "    <tr>\n",
       "      <th>1</th>\n",
       "      <td>1111009497</td>\n",
       "      <td>PL PRETZEL STICKS</td>\n",
       "      <td>PRIVATE LABEL</td>\n",
       "      <td>BAG SNACKS</td>\n",
       "      <td>PRETZELS</td>\n",
       "      <td>15 OZ</td>\n",
       "    </tr>\n",
       "    <tr>\n",
       "      <th>2</th>\n",
       "      <td>1111009507</td>\n",
       "      <td>PL TWIST PRETZELS</td>\n",
       "      <td>PRIVATE LABEL</td>\n",
       "      <td>BAG SNACKS</td>\n",
       "      <td>PRETZELS</td>\n",
       "      <td>15 OZ</td>\n",
       "    </tr>\n",
       "    <tr>\n",
       "      <th>3</th>\n",
       "      <td>1111038078</td>\n",
       "      <td>PL BL MINT ANTSPTC RINSE</td>\n",
       "      <td>PRIVATE LABEL</td>\n",
       "      <td>ORAL HYGIENE PRODUCTS</td>\n",
       "      <td>MOUTHWASHES (ANTISEPTIC)</td>\n",
       "      <td>500 ML</td>\n",
       "    </tr>\n",
       "    <tr>\n",
       "      <th>4</th>\n",
       "      <td>1111038080</td>\n",
       "      <td>PL ANTSPTC SPG MNT MTHWS</td>\n",
       "      <td>PRIVATE LABEL</td>\n",
       "      <td>ORAL HYGIENE PRODUCTS</td>\n",
       "      <td>MOUTHWASHES (ANTISEPTIC)</td>\n",
       "      <td>500 ML</td>\n",
       "    </tr>\n",
       "  </tbody>\n",
       "</table>\n",
       "</div>"
      ],
      "text/plain": [
       "          UPC               DESCRIPTION   MANUFACTURER               CATEGORY  \\\n",
       "0  1111009477    PL MINI TWIST PRETZELS  PRIVATE LABEL             BAG SNACKS   \n",
       "1  1111009497         PL PRETZEL STICKS  PRIVATE LABEL             BAG SNACKS   \n",
       "2  1111009507         PL TWIST PRETZELS  PRIVATE LABEL             BAG SNACKS   \n",
       "3  1111038078  PL BL MINT ANTSPTC RINSE  PRIVATE LABEL  ORAL HYGIENE PRODUCTS   \n",
       "4  1111038080  PL ANTSPTC SPG MNT MTHWS  PRIVATE LABEL  ORAL HYGIENE PRODUCTS   \n",
       "\n",
       "               SUB_CATEGORY PRODUCT_SIZE  \n",
       "0                  PRETZELS        15 OZ  \n",
       "1                  PRETZELS        15 OZ  \n",
       "2                  PRETZELS        15 OZ  \n",
       "3  MOUTHWASHES (ANTISEPTIC)       500 ML  \n",
       "4  MOUTHWASHES (ANTISEPTIC)       500 ML  "
      ]
     },
     "execution_count": 139,
     "metadata": {},
     "output_type": "execute_result"
    }
   ],
   "source": [
    "# display firt 5 rows of ata\n",
    "product_data.head()"
   ]
  },
  {
   "cell_type": "code",
   "execution_count": 121,
   "id": "d0da6a05",
   "metadata": {},
   "outputs": [
    {
     "data": {
      "text/plain": [
       "UPC              int64\n",
       "DESCRIPTION     object\n",
       "MANUFACTURER    object\n",
       "CATEGORY        object\n",
       "SUB_CATEGORY    object\n",
       "PRODUCT_SIZE    object\n",
       "dtype: object"
      ]
     },
     "execution_count": 121,
     "metadata": {},
     "output_type": "execute_result"
    }
   ],
   "source": [
    "product_data.dtypes"
   ]
  },
  {
   "cell_type": "markdown",
   "id": "e74e9277",
   "metadata": {},
   "source": [
    "**Categorical variables**\n",
    "- Check the unique values for categorical variables\n",
    "- Are there any missing values in the variables?\n",
    "- Is there any variable with high cardinality/ sparsity?\n"
   ]
  },
  {
   "cell_type": "markdown",
   "id": "bad7c856",
   "metadata": {},
   "source": [
    "- Checking for null values in all the columns"
   ]
  },
  {
   "cell_type": "code",
   "execution_count": 122,
   "id": "ce55edcd",
   "metadata": {},
   "outputs": [
    {
     "data": {
      "text/plain": [
       "UPC             0\n",
       "DESCRIPTION     0\n",
       "MANUFACTURER    0\n",
       "CATEGORY        0\n",
       "SUB_CATEGORY    0\n",
       "PRODUCT_SIZE    0\n",
       "dtype: int64"
      ]
     },
     "execution_count": 122,
     "metadata": {},
     "output_type": "execute_result"
    }
   ],
   "source": [
    "product_data.isnull().sum()"
   ]
  },
  {
   "cell_type": "markdown",
   "id": "47c7ad80",
   "metadata": {},
   "source": [
    "- None of the columns have null values in the data"
   ]
  },
  {
   "cell_type": "markdown",
   "id": "445d43b4",
   "metadata": {},
   "source": [
    "UPC"
   ]
  },
  {
   "cell_type": "code",
   "execution_count": 123,
   "id": "19b107bb",
   "metadata": {},
   "outputs": [
    {
     "data": {
      "text/plain": [
       "30"
      ]
     },
     "execution_count": 123,
     "metadata": {},
     "output_type": "execute_result"
    }
   ],
   "source": [
    "product_data['UPC'].nunique()"
   ]
  },
  {
   "cell_type": "markdown",
   "id": "63561a62",
   "metadata": {},
   "source": [
    "This unique product code number is consistent with the train data"
   ]
  },
  {
   "cell_type": "markdown",
   "id": "29282d82",
   "metadata": {},
   "source": [
    "### Are the product codes exactly the same as in train data ?\n"
   ]
  },
  {
   "cell_type": "code",
   "execution_count": 144,
   "id": "48632def",
   "metadata": {},
   "outputs": [
    {
     "data": {
      "text/plain": [
       "30"
      ]
     },
     "execution_count": 144,
     "metadata": {},
     "output_type": "execute_result"
    }
   ],
   "source": [
    "len(set(product_data.UPC).intersection(set(train.UPC)))"
   ]
  },
  {
   "cell_type": "markdown",
   "id": "95b6b9ab",
   "metadata": {},
   "source": [
    "There are 30 common product codes which means there is a 1 to 1 match in the UPC across the two datasets"
   ]
  },
  {
   "cell_type": "markdown",
   "id": "f938ef27",
   "metadata": {},
   "source": [
    "CATEGORY"
   ]
  },
  {
   "cell_type": "code",
   "execution_count": 147,
   "id": "66ed5f00",
   "metadata": {},
   "outputs": [
    {
     "data": {
      "text/plain": [
       "(4, ['BAG SNACKS', 'ORAL HYGIENE PRODUCTS', 'COLD CEREAL', 'FROZEN PIZZA'])"
      ]
     },
     "execution_count": 147,
     "metadata": {},
     "output_type": "execute_result"
    }
   ],
   "source": [
    "# number and list of unique categories in the product data\n",
    "product_data['CATEGORY'].nunique(), list(product_data['CATEGORY'].unique())"
   ]
  },
  {
   "cell_type": "code",
   "execution_count": 148,
   "id": "15c78bbf",
   "metadata": {},
   "outputs": [
    {
     "data": {
      "text/plain": [
       "0"
      ]
     },
     "execution_count": 148,
     "metadata": {},
     "output_type": "execute_result"
    }
   ],
   "source": [
    "product_data['CATEGORY'].isnull().sum()"
   ]
  },
  {
   "cell_type": "code",
   "execution_count": 149,
   "id": "e11862ce",
   "metadata": {},
   "outputs": [
    {
     "data": {
      "text/plain": [
       "CATEGORY\n",
       "ORAL HYGIENE PRODUCTS    6\n",
       "FROZEN PIZZA             7\n",
       "BAG SNACKS               8\n",
       "COLD CEREAL              9\n",
       "Name: count, dtype: int64"
      ]
     },
     "execution_count": 149,
     "metadata": {},
     "output_type": "execute_result"
    }
   ],
   "source": [
    "product_data['CATEGORY'].value_counts().sort_values()"
   ]
  },
  {
   "cell_type": "markdown",
   "id": "c04ee6b8",
   "metadata": {},
   "source": [
    "We have 4 product categories and 9 product ids are labelled as cold cereal, 8 are Bag snacks, 7 are Frozen pizza nad 6 are oral hygiene products"
   ]
  },
  {
   "cell_type": "markdown",
   "id": "904ab618",
   "metadata": {},
   "source": [
    "Lets look at the sub category feature to learn more"
   ]
  },
  {
   "cell_type": "code",
   "execution_count": 150,
   "id": "7541cb10",
   "metadata": {},
   "outputs": [
    {
     "data": {
      "text/plain": [
       "(7,\n",
       " ['PRETZELS',\n",
       "  'MOUTHWASHES (ANTISEPTIC)',\n",
       "  'ALL FAMILY CEREAL',\n",
       "  'ADULT CEREAL',\n",
       "  'PIZZA/PREMIUM',\n",
       "  'MOUTHWASH/RINSES AND SPRAYS',\n",
       "  'KIDS CEREAL'])"
      ]
     },
     "execution_count": 150,
     "metadata": {},
     "output_type": "execute_result"
    }
   ],
   "source": [
    "product_data['SUB_CATEGORY'].nunique(), list(product_data['SUB_CATEGORY'].unique())"
   ]
  },
  {
   "cell_type": "markdown",
   "id": "144b0091",
   "metadata": {},
   "source": [
    "There are 7 unique sub categories in the prodcut data"
   ]
  },
  {
   "cell_type": "code",
   "execution_count": 152,
   "id": "d379d78b",
   "metadata": {},
   "outputs": [
    {
     "data": {
      "text/plain": [
       "SUB_CATEGORY\n",
       "ADULT CEREAL                   1\n",
       "MOUTHWASH/RINSES AND SPRAYS    1\n",
       "KIDS CEREAL                    2\n",
       "MOUTHWASHES (ANTISEPTIC)       5\n",
       "ALL FAMILY CEREAL              6\n",
       "PIZZA/PREMIUM                  7\n",
       "PRETZELS                       8\n",
       "Name: count, dtype: int64"
      ]
     },
     "execution_count": 152,
     "metadata": {},
     "output_type": "execute_result"
    }
   ],
   "source": [
    "product_data['SUB_CATEGORY'].value_counts().sort_values()"
   ]
  },
  {
   "cell_type": "code",
   "execution_count": 153,
   "id": "d07a7b9c",
   "metadata": {},
   "outputs": [
    {
     "data": {
      "text/html": [
       "<div>\n",
       "<style scoped>\n",
       "    .dataframe tbody tr th:only-of-type {\n",
       "        vertical-align: middle;\n",
       "    }\n",
       "\n",
       "    .dataframe tbody tr th {\n",
       "        vertical-align: top;\n",
       "    }\n",
       "\n",
       "    .dataframe thead th {\n",
       "        text-align: right;\n",
       "    }\n",
       "</style>\n",
       "<table border=\"1\" class=\"dataframe\">\n",
       "  <thead>\n",
       "    <tr style=\"text-align: right;\">\n",
       "      <th></th>\n",
       "      <th>UPC</th>\n",
       "      <th>DESCRIPTION</th>\n",
       "      <th>MANUFACTURER</th>\n",
       "      <th>CATEGORY</th>\n",
       "      <th>SUB_CATEGORY</th>\n",
       "      <th>PRODUCT_SIZE</th>\n",
       "    </tr>\n",
       "  </thead>\n",
       "  <tbody>\n",
       "    <tr>\n",
       "      <th>0</th>\n",
       "      <td>1111009477</td>\n",
       "      <td>PL MINI TWIST PRETZELS</td>\n",
       "      <td>PRIVATE LABEL</td>\n",
       "      <td>BAG SNACKS</td>\n",
       "      <td>PRETZELS</td>\n",
       "      <td>15 OZ</td>\n",
       "    </tr>\n",
       "    <tr>\n",
       "      <th>1</th>\n",
       "      <td>1111009497</td>\n",
       "      <td>PL PRETZEL STICKS</td>\n",
       "      <td>PRIVATE LABEL</td>\n",
       "      <td>BAG SNACKS</td>\n",
       "      <td>PRETZELS</td>\n",
       "      <td>15 OZ</td>\n",
       "    </tr>\n",
       "    <tr>\n",
       "      <th>2</th>\n",
       "      <td>1111009507</td>\n",
       "      <td>PL TWIST PRETZELS</td>\n",
       "      <td>PRIVATE LABEL</td>\n",
       "      <td>BAG SNACKS</td>\n",
       "      <td>PRETZELS</td>\n",
       "      <td>15 OZ</td>\n",
       "    </tr>\n",
       "    <tr>\n",
       "      <th>14</th>\n",
       "      <td>2840004768</td>\n",
       "      <td>RLDGLD TINY TWISTS PRTZL</td>\n",
       "      <td>FRITO LAY</td>\n",
       "      <td>BAG SNACKS</td>\n",
       "      <td>PRETZELS</td>\n",
       "      <td>16 OZ</td>\n",
       "    </tr>\n",
       "    <tr>\n",
       "      <th>15</th>\n",
       "      <td>2840004770</td>\n",
       "      <td>RLDGLD PRETZEL STICKS</td>\n",
       "      <td>FRITO LAY</td>\n",
       "      <td>BAG SNACKS</td>\n",
       "      <td>PRETZELS</td>\n",
       "      <td>16 OZ</td>\n",
       "    </tr>\n",
       "    <tr>\n",
       "      <th>25</th>\n",
       "      <td>7797502248</td>\n",
       "      <td>SNYDR PRETZEL RODS</td>\n",
       "      <td>SNYDER S</td>\n",
       "      <td>BAG SNACKS</td>\n",
       "      <td>PRETZELS</td>\n",
       "      <td>10 OZ</td>\n",
       "    </tr>\n",
       "    <tr>\n",
       "      <th>26</th>\n",
       "      <td>7797508004</td>\n",
       "      <td>SNYDR SOURDOUGH NIBBLERS</td>\n",
       "      <td>SNYDER S</td>\n",
       "      <td>BAG SNACKS</td>\n",
       "      <td>PRETZELS</td>\n",
       "      <td>16 OZ</td>\n",
       "    </tr>\n",
       "    <tr>\n",
       "      <th>27</th>\n",
       "      <td>7797508006</td>\n",
       "      <td>SNYDR FF MINI PRETZELS</td>\n",
       "      <td>SNYDER S</td>\n",
       "      <td>BAG SNACKS</td>\n",
       "      <td>PRETZELS</td>\n",
       "      <td>16 OZ</td>\n",
       "    </tr>\n",
       "  </tbody>\n",
       "</table>\n",
       "</div>"
      ],
      "text/plain": [
       "           UPC               DESCRIPTION   MANUFACTURER    CATEGORY  \\\n",
       "0   1111009477    PL MINI TWIST PRETZELS  PRIVATE LABEL  BAG SNACKS   \n",
       "1   1111009497         PL PRETZEL STICKS  PRIVATE LABEL  BAG SNACKS   \n",
       "2   1111009507         PL TWIST PRETZELS  PRIVATE LABEL  BAG SNACKS   \n",
       "14  2840004768  RLDGLD TINY TWISTS PRTZL      FRITO LAY  BAG SNACKS   \n",
       "15  2840004770     RLDGLD PRETZEL STICKS      FRITO LAY  BAG SNACKS   \n",
       "25  7797502248        SNYDR PRETZEL RODS       SNYDER S  BAG SNACKS   \n",
       "26  7797508004  SNYDR SOURDOUGH NIBBLERS       SNYDER S  BAG SNACKS   \n",
       "27  7797508006    SNYDR FF MINI PRETZELS       SNYDER S  BAG SNACKS   \n",
       "\n",
       "   SUB_CATEGORY PRODUCT_SIZE  \n",
       "0      PRETZELS        15 OZ  \n",
       "1      PRETZELS        15 OZ  \n",
       "2      PRETZELS        15 OZ  \n",
       "14     PRETZELS        16 OZ  \n",
       "15     PRETZELS        16 OZ  \n",
       "25     PRETZELS        10 OZ  \n",
       "26     PRETZELS        16 OZ  \n",
       "27     PRETZELS        16 OZ  "
      ]
     },
     "execution_count": 153,
     "metadata": {},
     "output_type": "execute_result"
    }
   ],
   "source": [
    "product_data[product_data['SUB_CATEGORY']=='PRETZELS']"
   ]
  },
  {
   "cell_type": "code",
   "execution_count": 156,
   "id": "00c3ea52",
   "metadata": {},
   "outputs": [
    {
     "data": {
      "text/html": [
       "<div>\n",
       "<style scoped>\n",
       "    .dataframe tbody tr th:only-of-type {\n",
       "        vertical-align: middle;\n",
       "    }\n",
       "\n",
       "    .dataframe tbody tr th {\n",
       "        vertical-align: top;\n",
       "    }\n",
       "\n",
       "    .dataframe thead th {\n",
       "        text-align: right;\n",
       "    }\n",
       "</style>\n",
       "<table border=\"1\" class=\"dataframe\">\n",
       "  <thead>\n",
       "    <tr style=\"text-align: right;\">\n",
       "      <th></th>\n",
       "      <th>CATEGORY</th>\n",
       "      <th>SUB_CATEGORY</th>\n",
       "    </tr>\n",
       "  </thead>\n",
       "  <tbody>\n",
       "    <tr>\n",
       "      <th>0</th>\n",
       "      <td>BAG SNACKS</td>\n",
       "      <td>PRETZELS</td>\n",
       "    </tr>\n",
       "    <tr>\n",
       "      <th>5</th>\n",
       "      <td>COLD CEREAL</td>\n",
       "      <td>ALL FAMILY CEREAL</td>\n",
       "    </tr>\n",
       "    <tr>\n",
       "      <th>6</th>\n",
       "      <td>COLD CEREAL</td>\n",
       "      <td>ADULT CEREAL</td>\n",
       "    </tr>\n",
       "    <tr>\n",
       "      <th>19</th>\n",
       "      <td>COLD CEREAL</td>\n",
       "      <td>KIDS CEREAL</td>\n",
       "    </tr>\n",
       "    <tr>\n",
       "      <th>8</th>\n",
       "      <td>FROZEN PIZZA</td>\n",
       "      <td>PIZZA/PREMIUM</td>\n",
       "    </tr>\n",
       "    <tr>\n",
       "      <th>3</th>\n",
       "      <td>ORAL HYGIENE PRODUCTS</td>\n",
       "      <td>MOUTHWASHES (ANTISEPTIC)</td>\n",
       "    </tr>\n",
       "    <tr>\n",
       "      <th>16</th>\n",
       "      <td>ORAL HYGIENE PRODUCTS</td>\n",
       "      <td>MOUTHWASH/RINSES AND SPRAYS</td>\n",
       "    </tr>\n",
       "  </tbody>\n",
       "</table>\n",
       "</div>"
      ],
      "text/plain": [
       "                 CATEGORY                 SUB_CATEGORY\n",
       "0              BAG SNACKS                     PRETZELS\n",
       "5             COLD CEREAL            ALL FAMILY CEREAL\n",
       "6             COLD CEREAL                 ADULT CEREAL\n",
       "19            COLD CEREAL                  KIDS CEREAL\n",
       "8            FROZEN PIZZA                PIZZA/PREMIUM\n",
       "3   ORAL HYGIENE PRODUCTS     MOUTHWASHES (ANTISEPTIC)\n",
       "16  ORAL HYGIENE PRODUCTS  MOUTHWASH/RINSES AND SPRAYS"
      ]
     },
     "execution_count": 156,
     "metadata": {},
     "output_type": "execute_result"
    }
   ],
   "source": [
    "# displaying the sub categories against each category\n",
    "product_data[['CATEGORY', 'SUB_CATEGORY']].drop_duplicates().sort_values(by='CATEGORY')"
   ]
  },
  {
   "cell_type": "markdown",
   "id": "1e9e64cd",
   "metadata": {},
   "source": [
    "The sub-categories give additional detail about the product.\n",
    "\n",
    "- Cereal has 3 sub categoires,differentaiting on the age group\n",
    "- Oral hygiene has 2 sub categories, antiseptic and rinse/spray\n",
    "- Bag Snacks and Frozen Pizza have only one sub catgeory each, no further division"
   ]
  },
  {
   "cell_type": "markdown",
   "id": "75b380dd",
   "metadata": {},
   "source": [
    "Does the sub category has anything to do with the size of the product?\n"
   ]
  },
  {
   "cell_type": "markdown",
   "id": "96e8e8aa",
   "metadata": {},
   "source": [
    "Product size\n"
   ]
  },
  {
   "cell_type": "code",
   "execution_count": 157,
   "id": "55bc7d30",
   "metadata": {},
   "outputs": [
    {
     "data": {
      "text/html": [
       "<div>\n",
       "<style scoped>\n",
       "    .dataframe tbody tr th:only-of-type {\n",
       "        vertical-align: middle;\n",
       "    }\n",
       "\n",
       "    .dataframe tbody tr th {\n",
       "        vertical-align: top;\n",
       "    }\n",
       "\n",
       "    .dataframe thead th {\n",
       "        text-align: right;\n",
       "    }\n",
       "</style>\n",
       "<table border=\"1\" class=\"dataframe\">\n",
       "  <thead>\n",
       "    <tr style=\"text-align: right;\">\n",
       "      <th></th>\n",
       "      <th>CATEGORY</th>\n",
       "      <th>SUB_CATEGORY</th>\n",
       "      <th>PRODUCT_SIZE</th>\n",
       "    </tr>\n",
       "  </thead>\n",
       "  <tbody>\n",
       "    <tr>\n",
       "      <th>0</th>\n",
       "      <td>BAG SNACKS</td>\n",
       "      <td>PRETZELS</td>\n",
       "      <td>15 OZ</td>\n",
       "    </tr>\n",
       "    <tr>\n",
       "      <th>14</th>\n",
       "      <td>BAG SNACKS</td>\n",
       "      <td>PRETZELS</td>\n",
       "      <td>16 OZ</td>\n",
       "    </tr>\n",
       "    <tr>\n",
       "      <th>25</th>\n",
       "      <td>BAG SNACKS</td>\n",
       "      <td>PRETZELS</td>\n",
       "      <td>10 OZ</td>\n",
       "    </tr>\n",
       "    <tr>\n",
       "      <th>6</th>\n",
       "      <td>COLD CEREAL</td>\n",
       "      <td>ADULT CEREAL</td>\n",
       "      <td>20 OZ</td>\n",
       "    </tr>\n",
       "    <tr>\n",
       "      <th>7</th>\n",
       "      <td>COLD CEREAL</td>\n",
       "      <td>ALL FAMILY CEREAL</td>\n",
       "      <td>18 OZ</td>\n",
       "    </tr>\n",
       "    <tr>\n",
       "      <th>19</th>\n",
       "      <td>COLD CEREAL</td>\n",
       "      <td>KIDS CEREAL</td>\n",
       "      <td>15 OZ</td>\n",
       "    </tr>\n",
       "    <tr>\n",
       "      <th>20</th>\n",
       "      <td>COLD CEREAL</td>\n",
       "      <td>KIDS CEREAL</td>\n",
       "      <td>12.2 OZ</td>\n",
       "    </tr>\n",
       "    <tr>\n",
       "      <th>5</th>\n",
       "      <td>COLD CEREAL</td>\n",
       "      <td>ALL FAMILY CEREAL</td>\n",
       "      <td>12.25 OZ</td>\n",
       "    </tr>\n",
       "    <tr>\n",
       "      <th>13</th>\n",
       "      <td>COLD CEREAL</td>\n",
       "      <td>ALL FAMILY CEREAL</td>\n",
       "      <td>12 OZ</td>\n",
       "    </tr>\n",
       "    <tr>\n",
       "      <th>8</th>\n",
       "      <td>FROZEN PIZZA</td>\n",
       "      <td>PIZZA/PREMIUM</td>\n",
       "      <td>32.7 OZ</td>\n",
       "    </tr>\n",
       "    <tr>\n",
       "      <th>9</th>\n",
       "      <td>FROZEN PIZZA</td>\n",
       "      <td>PIZZA/PREMIUM</td>\n",
       "      <td>30.5 OZ</td>\n",
       "    </tr>\n",
       "    <tr>\n",
       "      <th>10</th>\n",
       "      <td>FROZEN PIZZA</td>\n",
       "      <td>PIZZA/PREMIUM</td>\n",
       "      <td>29.6 OZ</td>\n",
       "    </tr>\n",
       "    <tr>\n",
       "      <th>24</th>\n",
       "      <td>FROZEN PIZZA</td>\n",
       "      <td>PIZZA/PREMIUM</td>\n",
       "      <td>22.7 OZ</td>\n",
       "    </tr>\n",
       "    <tr>\n",
       "      <th>21</th>\n",
       "      <td>FROZEN PIZZA</td>\n",
       "      <td>PIZZA/PREMIUM</td>\n",
       "      <td>29.8 OZ</td>\n",
       "    </tr>\n",
       "    <tr>\n",
       "      <th>23</th>\n",
       "      <td>FROZEN PIZZA</td>\n",
       "      <td>PIZZA/PREMIUM</td>\n",
       "      <td>28.3 OZ</td>\n",
       "    </tr>\n",
       "    <tr>\n",
       "      <th>3</th>\n",
       "      <td>ORAL HYGIENE PRODUCTS</td>\n",
       "      <td>MOUTHWASHES (ANTISEPTIC)</td>\n",
       "      <td>500 ML</td>\n",
       "    </tr>\n",
       "    <tr>\n",
       "      <th>16</th>\n",
       "      <td>ORAL HYGIENE PRODUCTS</td>\n",
       "      <td>MOUTHWASH/RINSES AND SPRAYS</td>\n",
       "      <td>1 LT</td>\n",
       "    </tr>\n",
       "    <tr>\n",
       "      <th>17</th>\n",
       "      <td>ORAL HYGIENE PRODUCTS</td>\n",
       "      <td>MOUTHWASHES (ANTISEPTIC)</td>\n",
       "      <td>1 LT</td>\n",
       "    </tr>\n",
       "  </tbody>\n",
       "</table>\n",
       "</div>"
      ],
      "text/plain": [
       "                 CATEGORY                 SUB_CATEGORY PRODUCT_SIZE\n",
       "0              BAG SNACKS                     PRETZELS        15 OZ\n",
       "14             BAG SNACKS                     PRETZELS        16 OZ\n",
       "25             BAG SNACKS                     PRETZELS        10 OZ\n",
       "6             COLD CEREAL                 ADULT CEREAL        20 OZ\n",
       "7             COLD CEREAL            ALL FAMILY CEREAL        18 OZ\n",
       "19            COLD CEREAL                  KIDS CEREAL        15 OZ\n",
       "20            COLD CEREAL                  KIDS CEREAL      12.2 OZ\n",
       "5             COLD CEREAL            ALL FAMILY CEREAL     12.25 OZ\n",
       "13            COLD CEREAL            ALL FAMILY CEREAL        12 OZ\n",
       "8            FROZEN PIZZA                PIZZA/PREMIUM      32.7 OZ\n",
       "9            FROZEN PIZZA                PIZZA/PREMIUM      30.5 OZ\n",
       "10           FROZEN PIZZA                PIZZA/PREMIUM      29.6 OZ\n",
       "24           FROZEN PIZZA                PIZZA/PREMIUM      22.7 OZ\n",
       "21           FROZEN PIZZA                PIZZA/PREMIUM      29.8 OZ\n",
       "23           FROZEN PIZZA                PIZZA/PREMIUM      28.3 OZ\n",
       "3   ORAL HYGIENE PRODUCTS     MOUTHWASHES (ANTISEPTIC)       500 ML\n",
       "16  ORAL HYGIENE PRODUCTS  MOUTHWASH/RINSES AND SPRAYS         1 LT\n",
       "17  ORAL HYGIENE PRODUCTS     MOUTHWASHES (ANTISEPTIC)         1 LT"
      ]
     },
     "execution_count": 157,
     "metadata": {},
     "output_type": "execute_result"
    }
   ],
   "source": [
    "product_data[['CATEGORY', 'SUB_CATEGORY','PRODUCT_SIZE']].drop_duplicates().sort_values(by='CATEGORY')"
   ]
  },
  {
   "cell_type": "markdown",
   "id": "2a83c303",
   "metadata": {},
   "source": [
    "The cold cereal for kids is available in two different sizes. Also, the cold cereal for all family has the same size as the cold cereal for kids. Hence subcategory is not an indicator of size\n",
    "\n"
   ]
  },
  {
   "cell_type": "markdown",
   "id": "cebf3739",
   "metadata": {},
   "source": [
    "###### **Summary:**\n",
    "\n",
    "\n",
    "- Bag of Snacks has 1 sub category and 3 product sizes\n",
    "- Oral hygiene has 2 sub categories and 2 sizes\n",
    "- Frozen Pizza has 1 sub category and 6 sizes available\n",
    "- COld cereals has 3 sub categories and 6 different sizes"
   ]
  },
  {
   "cell_type": "markdown",
   "id": "aac9eaa7",
   "metadata": {},
   "source": [
    "## DESCRIPTION"
   ]
  },
  {
   "cell_type": "code",
   "execution_count": 158,
   "id": "044565d2",
   "metadata": {},
   "outputs": [
    {
     "data": {
      "text/plain": [
       "(29,\n",
       " ['PL MINI TWIST PRETZELS',\n",
       "  'PL PRETZEL STICKS',\n",
       "  'PL TWIST PRETZELS',\n",
       "  'PL BL MINT ANTSPTC RINSE',\n",
       "  'PL ANTSPTC SPG MNT MTHWS',\n",
       "  'PL HONEY NUT TOASTD OATS',\n",
       "  'PL RAISIN BRAN',\n",
       "  'PL BT SZ FRSTD SHRD WHT',\n",
       "  'PL SR CRUST SUPRM PIZZA',\n",
       "  'PL SR CRUST 3 MEAT PIZZA',\n",
       "  'PL SR CRUST PEPPRN PIZZA',\n",
       "  'GM HONEY NUT CHEERIOS',\n",
       "  'GM CHEERIOS',\n",
       "  'RLDGLD TINY TWISTS PRTZL',\n",
       "  'RLDGLD PRETZEL STICKS',\n",
       "  'SCOPE ORIG MINT MOUTHWASH',\n",
       "  'CREST PH CLN MINT RINSE',\n",
       "  'KELL BITE SIZE MINI WHEAT',\n",
       "  'KELL FROSTED FLAKES',\n",
       "  'KELL FROOT LOOPS',\n",
       "  'DIGIORNO THREE MEAT',\n",
       "  'DIGRN SUPREME PIZZA',\n",
       "  'DIGRN PEPP PIZZA',\n",
       "  'FRSC BRCK OVN ITL PEP PZ',\n",
       "  'SNYDR PRETZEL RODS',\n",
       "  'SNYDR SOURDOUGH NIBBLERS',\n",
       "  'SNYDR FF MINI PRETZELS',\n",
       "  'LSTRNE CL MINT ANTSPTC MW',\n",
       "  'LSTRNE FRS BRST ANTSPC MW'])"
      ]
     },
     "execution_count": 158,
     "metadata": {},
     "output_type": "execute_result"
    }
   ],
   "source": [
    "product_data['DESCRIPTION'].nunique(), list(product_data['DESCRIPTION'].unique())"
   ]
  },
  {
   "cell_type": "markdown",
   "id": "36e00a00",
   "metadata": {},
   "source": [
    "- We have 29 product descriptions, but 30 products. So all product ids have a unique description but 1 description has been repeated"
   ]
  },
  {
   "cell_type": "code",
   "execution_count": 159,
   "id": "e515a9dc",
   "metadata": {},
   "outputs": [
    {
     "data": {
      "text/plain": [
       "DESCRIPTION\n",
       "GM CHEERIOS                  2\n",
       "PL MINI TWIST PRETZELS       1\n",
       "SCOPE ORIG MINT MOUTHWASH    1\n",
       "LSTRNE CL MINT ANTSPTC MW    1\n",
       "SNYDR FF MINI PRETZELS       1\n",
       "SNYDR SOURDOUGH NIBBLERS     1\n",
       "SNYDR PRETZEL RODS           1\n",
       "FRSC BRCK OVN ITL PEP PZ     1\n",
       "DIGRN PEPP PIZZA             1\n",
       "DIGRN SUPREME PIZZA          1\n",
       "DIGIORNO THREE MEAT          1\n",
       "KELL FROOT LOOPS             1\n",
       "KELL FROSTED FLAKES          1\n",
       "KELL BITE SIZE MINI WHEAT    1\n",
       "CREST PH CLN MINT RINSE      1\n",
       "RLDGLD PRETZEL STICKS        1\n",
       "PL PRETZEL STICKS            1\n",
       "RLDGLD TINY TWISTS PRTZL     1\n",
       "GM HONEY NUT CHEERIOS        1\n",
       "PL SR CRUST PEPPRN PIZZA     1\n",
       "PL SR CRUST 3 MEAT PIZZA     1\n",
       "PL SR CRUST SUPRM PIZZA      1\n",
       "PL BT SZ FRSTD SHRD WHT      1\n",
       "PL RAISIN BRAN               1\n",
       "PL HONEY NUT TOASTD OATS     1\n",
       "PL ANTSPTC SPG MNT MTHWS     1\n",
       "PL BL MINT ANTSPTC RINSE     1\n",
       "PL TWIST PRETZELS            1\n",
       "LSTRNE FRS BRST ANTSPC MW    1\n",
       "Name: count, dtype: int64"
      ]
     },
     "execution_count": 159,
     "metadata": {},
     "output_type": "execute_result"
    }
   ],
   "source": [
    "product_data['DESCRIPTION'].value_counts()"
   ]
  },
  {
   "cell_type": "code",
   "execution_count": 160,
   "id": "5acbff59",
   "metadata": {},
   "outputs": [
    {
     "data": {
      "text/html": [
       "<div>\n",
       "<style scoped>\n",
       "    .dataframe tbody tr th:only-of-type {\n",
       "        vertical-align: middle;\n",
       "    }\n",
       "\n",
       "    .dataframe tbody tr th {\n",
       "        vertical-align: top;\n",
       "    }\n",
       "\n",
       "    .dataframe thead th {\n",
       "        text-align: right;\n",
       "    }\n",
       "</style>\n",
       "<table border=\"1\" class=\"dataframe\">\n",
       "  <thead>\n",
       "    <tr style=\"text-align: right;\">\n",
       "      <th></th>\n",
       "      <th>UPC</th>\n",
       "      <th>DESCRIPTION</th>\n",
       "      <th>MANUFACTURER</th>\n",
       "      <th>CATEGORY</th>\n",
       "      <th>SUB_CATEGORY</th>\n",
       "      <th>PRODUCT_SIZE</th>\n",
       "    </tr>\n",
       "  </thead>\n",
       "  <tbody>\n",
       "    <tr>\n",
       "      <th>12</th>\n",
       "      <td>1600027528</td>\n",
       "      <td>GM CHEERIOS</td>\n",
       "      <td>GENERAL MI</td>\n",
       "      <td>COLD CEREAL</td>\n",
       "      <td>ALL FAMILY CEREAL</td>\n",
       "      <td>18 OZ</td>\n",
       "    </tr>\n",
       "    <tr>\n",
       "      <th>13</th>\n",
       "      <td>1600027564</td>\n",
       "      <td>GM CHEERIOS</td>\n",
       "      <td>GENERAL MI</td>\n",
       "      <td>COLD CEREAL</td>\n",
       "      <td>ALL FAMILY CEREAL</td>\n",
       "      <td>12 OZ</td>\n",
       "    </tr>\n",
       "  </tbody>\n",
       "</table>\n",
       "</div>"
      ],
      "text/plain": [
       "           UPC  DESCRIPTION MANUFACTURER     CATEGORY       SUB_CATEGORY  \\\n",
       "12  1600027528  GM CHEERIOS   GENERAL MI  COLD CEREAL  ALL FAMILY CEREAL   \n",
       "13  1600027564  GM CHEERIOS   GENERAL MI  COLD CEREAL  ALL FAMILY CEREAL   \n",
       "\n",
       "   PRODUCT_SIZE  \n",
       "12        18 OZ  \n",
       "13        12 OZ  "
      ]
     },
     "execution_count": 160,
     "metadata": {},
     "output_type": "execute_result"
    }
   ],
   "source": [
    "product_data[product_data['DESCRIPTION']=='GM CHEERIOS']"
   ]
  },
  {
   "cell_type": "markdown",
   "id": "58639600",
   "metadata": {},
   "source": [
    "There are 2 UPC for the same description, manufacturer, category and sub category. The only difference is that the product is availabel in 2 different sizes"
   ]
  },
  {
   "cell_type": "code",
   "execution_count": 164,
   "id": "00f64817",
   "metadata": {},
   "outputs": [
    {
     "data": {
      "text/plain": [
       "7960    1600027527\n",
       "Name: UPC, dtype: int64"
      ]
     },
     "execution_count": 164,
     "metadata": {},
     "output_type": "execute_result"
    }
   ],
   "source": [
    "# In train data we saw that one product has extremley high sales value, checking that product \n",
    "train[train['UNITS']==1800]['UPC']"
   ]
  },
  {
   "cell_type": "code",
   "execution_count": 165,
   "id": "a77403c3",
   "metadata": {},
   "outputs": [
    {
     "data": {
      "text/html": [
       "<div>\n",
       "<style scoped>\n",
       "    .dataframe tbody tr th:only-of-type {\n",
       "        vertical-align: middle;\n",
       "    }\n",
       "\n",
       "    .dataframe tbody tr th {\n",
       "        vertical-align: top;\n",
       "    }\n",
       "\n",
       "    .dataframe thead th {\n",
       "        text-align: right;\n",
       "    }\n",
       "</style>\n",
       "<table border=\"1\" class=\"dataframe\">\n",
       "  <thead>\n",
       "    <tr style=\"text-align: right;\">\n",
       "      <th></th>\n",
       "      <th>UPC</th>\n",
       "      <th>DESCRIPTION</th>\n",
       "      <th>MANUFACTURER</th>\n",
       "      <th>CATEGORY</th>\n",
       "      <th>SUB_CATEGORY</th>\n",
       "      <th>PRODUCT_SIZE</th>\n",
       "    </tr>\n",
       "  </thead>\n",
       "  <tbody>\n",
       "    <tr>\n",
       "      <th>11</th>\n",
       "      <td>1600027527</td>\n",
       "      <td>GM HONEY NUT CHEERIOS</td>\n",
       "      <td>GENERAL MI</td>\n",
       "      <td>COLD CEREAL</td>\n",
       "      <td>ALL FAMILY CEREAL</td>\n",
       "      <td>12.25 OZ</td>\n",
       "    </tr>\n",
       "  </tbody>\n",
       "</table>\n",
       "</div>"
      ],
      "text/plain": [
       "           UPC            DESCRIPTION MANUFACTURER     CATEGORY  \\\n",
       "11  1600027527  GM HONEY NUT CHEERIOS   GENERAL MI  COLD CEREAL   \n",
       "\n",
       "         SUB_CATEGORY PRODUCT_SIZE  \n",
       "11  ALL FAMILY CEREAL     12.25 OZ  "
      ]
     },
     "execution_count": 165,
     "metadata": {},
     "output_type": "execute_result"
    }
   ],
   "source": [
    "product_data[product_data['UPC']==1600027527]"
   ]
  },
  {
   "cell_type": "markdown",
   "id": "4966ed92",
   "metadata": {},
   "source": [
    "- may be the manufacturer or the brnading is the reason for sucha high sales, we will come back to this"
   ]
  },
  {
   "cell_type": "markdown",
   "id": "8fd67e94",
   "metadata": {},
   "source": [
    "MANUFACTURER"
   ]
  },
  {
   "cell_type": "markdown",
   "id": "435bc8e3",
   "metadata": {},
   "source": [
    "- How many manufacturers/suppliers are we associated with?\n",
    "\n",
    "- Are same products created by multiple manufacturers?"
   ]
  },
  {
   "cell_type": "code",
   "execution_count": 167,
   "id": "4d8ad525",
   "metadata": {},
   "outputs": [
    {
     "data": {
      "text/plain": [
       "(9,\n",
       " ['PRIVATE LABEL',\n",
       "  'GENERAL MI',\n",
       "  'FRITO LAY',\n",
       "  'P & G',\n",
       "  'KELLOGG',\n",
       "  'TOMBSTONE',\n",
       "  'TONYS',\n",
       "  'SNYDER S',\n",
       "  'WARNER'])"
      ]
     },
     "execution_count": 167,
     "metadata": {},
     "output_type": "execute_result"
    }
   ],
   "source": [
    "product_data['MANUFACTURER'].nunique(), list(product_data['MANUFACTURER'].unique())"
   ]
  },
  {
   "cell_type": "markdown",
   "id": "4a11f267",
   "metadata": {},
   "source": [
    "There are 9 manufacturers"
   ]
  },
  {
   "cell_type": "code",
   "execution_count": 168,
   "id": "4f1ac7f0",
   "metadata": {},
   "outputs": [],
   "source": [
    "# displaying the list of manufacturers against 4 categories\n",
    "temp = product_data[['CATEGORY','MANUFACTURER']].drop_duplicates()"
   ]
  },
  {
   "cell_type": "code",
   "execution_count": 169,
   "id": "a8d0a12a",
   "metadata": {},
   "outputs": [
    {
     "data": {
      "text/html": [
       "<div>\n",
       "<style scoped>\n",
       "    .dataframe tbody tr th:only-of-type {\n",
       "        vertical-align: middle;\n",
       "    }\n",
       "\n",
       "    .dataframe tbody tr th {\n",
       "        vertical-align: top;\n",
       "    }\n",
       "\n",
       "    .dataframe thead th {\n",
       "        text-align: right;\n",
       "    }\n",
       "</style>\n",
       "<table border=\"1\" class=\"dataframe\">\n",
       "  <thead>\n",
       "    <tr style=\"text-align: right;\">\n",
       "      <th>MANUFACTURER</th>\n",
       "      <th>FRITO LAY</th>\n",
       "      <th>GENERAL MI</th>\n",
       "      <th>KELLOGG</th>\n",
       "      <th>P &amp; G</th>\n",
       "      <th>PRIVATE LABEL</th>\n",
       "      <th>SNYDER S</th>\n",
       "      <th>TOMBSTONE</th>\n",
       "      <th>TONYS</th>\n",
       "      <th>WARNER</th>\n",
       "    </tr>\n",
       "    <tr>\n",
       "      <th>CATEGORY</th>\n",
       "      <th></th>\n",
       "      <th></th>\n",
       "      <th></th>\n",
       "      <th></th>\n",
       "      <th></th>\n",
       "      <th></th>\n",
       "      <th></th>\n",
       "      <th></th>\n",
       "      <th></th>\n",
       "    </tr>\n",
       "  </thead>\n",
       "  <tbody>\n",
       "    <tr>\n",
       "      <th>BAG SNACKS</th>\n",
       "      <td>1</td>\n",
       "      <td>0</td>\n",
       "      <td>0</td>\n",
       "      <td>0</td>\n",
       "      <td>1</td>\n",
       "      <td>1</td>\n",
       "      <td>0</td>\n",
       "      <td>0</td>\n",
       "      <td>0</td>\n",
       "    </tr>\n",
       "    <tr>\n",
       "      <th>COLD CEREAL</th>\n",
       "      <td>0</td>\n",
       "      <td>1</td>\n",
       "      <td>1</td>\n",
       "      <td>0</td>\n",
       "      <td>1</td>\n",
       "      <td>0</td>\n",
       "      <td>0</td>\n",
       "      <td>0</td>\n",
       "      <td>0</td>\n",
       "    </tr>\n",
       "    <tr>\n",
       "      <th>FROZEN PIZZA</th>\n",
       "      <td>0</td>\n",
       "      <td>0</td>\n",
       "      <td>0</td>\n",
       "      <td>0</td>\n",
       "      <td>1</td>\n",
       "      <td>0</td>\n",
       "      <td>1</td>\n",
       "      <td>1</td>\n",
       "      <td>0</td>\n",
       "    </tr>\n",
       "    <tr>\n",
       "      <th>ORAL HYGIENE PRODUCTS</th>\n",
       "      <td>0</td>\n",
       "      <td>0</td>\n",
       "      <td>0</td>\n",
       "      <td>1</td>\n",
       "      <td>1</td>\n",
       "      <td>0</td>\n",
       "      <td>0</td>\n",
       "      <td>0</td>\n",
       "      <td>1</td>\n",
       "    </tr>\n",
       "  </tbody>\n",
       "</table>\n",
       "</div>"
      ],
      "text/plain": [
       "MANUFACTURER           FRITO LAY  GENERAL MI  KELLOGG  P & G  PRIVATE LABEL  \\\n",
       "CATEGORY                                                                      \n",
       "BAG SNACKS                     1           0        0      0              1   \n",
       "COLD CEREAL                    0           1        1      0              1   \n",
       "FROZEN PIZZA                   0           0        0      0              1   \n",
       "ORAL HYGIENE PRODUCTS          0           0        0      1              1   \n",
       "\n",
       "MANUFACTURER           SNYDER S  TOMBSTONE  TONYS  WARNER  \n",
       "CATEGORY                                                   \n",
       "BAG SNACKS                    1          0      0       0  \n",
       "COLD CEREAL                   0          0      0       0  \n",
       "FROZEN PIZZA                  0          1      1       0  \n",
       "ORAL HYGIENE PRODUCTS         0          0      0       1  "
      ]
     },
     "execution_count": 169,
     "metadata": {},
     "output_type": "execute_result"
    }
   ],
   "source": [
    "pd.crosstab(temp['CATEGORY'], temp['MANUFACTURER'])"
   ]
  },
  {
   "cell_type": "markdown",
   "id": "8fd27851",
   "metadata": {},
   "source": [
    "- We have 4 unique categories of Products\n",
    "- Each category has 3 manufacturers\n",
    "- Every category has a manufcaturer 'Private Label' and 2 other manufacturers"
   ]
  },
  {
   "cell_type": "code",
   "execution_count": null,
   "id": "c4470735",
   "metadata": {},
   "outputs": [],
   "source": []
  },
  {
   "cell_type": "code",
   "execution_count": null,
   "id": "b4110a69",
   "metadata": {},
   "outputs": [],
   "source": []
  },
  {
   "cell_type": "code",
   "execution_count": null,
   "id": "c282cdd6",
   "metadata": {},
   "outputs": [],
   "source": []
  },
  {
   "cell_type": "code",
   "execution_count": null,
   "id": "cc7d0d9f",
   "metadata": {},
   "outputs": [],
   "source": []
  },
  {
   "cell_type": "markdown",
   "id": "1733b675",
   "metadata": {},
   "source": [
    "## Understanding the Store Data"
   ]
  },
  {
   "cell_type": "code",
   "execution_count": 171,
   "id": "2e6d93ed",
   "metadata": {},
   "outputs": [
    {
     "data": {
      "text/html": [
       "<div>\n",
       "<style scoped>\n",
       "    .dataframe tbody tr th:only-of-type {\n",
       "        vertical-align: middle;\n",
       "    }\n",
       "\n",
       "    .dataframe tbody tr th {\n",
       "        vertical-align: top;\n",
       "    }\n",
       "\n",
       "    .dataframe thead th {\n",
       "        text-align: right;\n",
       "    }\n",
       "</style>\n",
       "<table border=\"1\" class=\"dataframe\">\n",
       "  <thead>\n",
       "    <tr style=\"text-align: right;\">\n",
       "      <th></th>\n",
       "      <th>STORE_ID</th>\n",
       "      <th>STORE_NAME</th>\n",
       "      <th>ADDRESS_CITY_NAME</th>\n",
       "      <th>ADDRESS_STATE_PROV_CODE</th>\n",
       "      <th>MSA_CODE</th>\n",
       "      <th>SEG_VALUE_NAME</th>\n",
       "      <th>PARKING_SPACE_QTY</th>\n",
       "      <th>SALES_AREA_SIZE_NUM</th>\n",
       "      <th>AVG_WEEKLY_BASKETS</th>\n",
       "    </tr>\n",
       "  </thead>\n",
       "  <tbody>\n",
       "    <tr>\n",
       "      <th>0</th>\n",
       "      <td>367</td>\n",
       "      <td>15TH &amp; MADISON</td>\n",
       "      <td>COVINGTON</td>\n",
       "      <td>KY</td>\n",
       "      <td>17140</td>\n",
       "      <td>VALUE</td>\n",
       "      <td>196.0</td>\n",
       "      <td>24721</td>\n",
       "      <td>12707</td>\n",
       "    </tr>\n",
       "    <tr>\n",
       "      <th>1</th>\n",
       "      <td>389</td>\n",
       "      <td>SILVERLAKE</td>\n",
       "      <td>ERLANGER</td>\n",
       "      <td>KY</td>\n",
       "      <td>17140</td>\n",
       "      <td>MAINSTREAM</td>\n",
       "      <td>408.0</td>\n",
       "      <td>46073</td>\n",
       "      <td>24767</td>\n",
       "    </tr>\n",
       "    <tr>\n",
       "      <th>2</th>\n",
       "      <td>613</td>\n",
       "      <td>EAST ALLEN</td>\n",
       "      <td>ALLEN</td>\n",
       "      <td>TX</td>\n",
       "      <td>19100</td>\n",
       "      <td>MAINSTREAM</td>\n",
       "      <td>464.0</td>\n",
       "      <td>64926</td>\n",
       "      <td>29386</td>\n",
       "    </tr>\n",
       "    <tr>\n",
       "      <th>3</th>\n",
       "      <td>623</td>\n",
       "      <td>HOUSTON</td>\n",
       "      <td>HOUSTON</td>\n",
       "      <td>TX</td>\n",
       "      <td>26420</td>\n",
       "      <td>MAINSTREAM</td>\n",
       "      <td>NaN</td>\n",
       "      <td>46930</td>\n",
       "      <td>36741</td>\n",
       "    </tr>\n",
       "    <tr>\n",
       "      <th>4</th>\n",
       "      <td>2277</td>\n",
       "      <td>ANDERSON TOWNE CTR</td>\n",
       "      <td>CINCINNATI</td>\n",
       "      <td>OH</td>\n",
       "      <td>17140</td>\n",
       "      <td>UPSCALE</td>\n",
       "      <td>NaN</td>\n",
       "      <td>81958</td>\n",
       "      <td>54053</td>\n",
       "    </tr>\n",
       "  </tbody>\n",
       "</table>\n",
       "</div>"
      ],
      "text/plain": [
       "   STORE_ID          STORE_NAME ADDRESS_CITY_NAME ADDRESS_STATE_PROV_CODE  \\\n",
       "0       367      15TH & MADISON         COVINGTON                      KY   \n",
       "1       389          SILVERLAKE          ERLANGER                      KY   \n",
       "2       613          EAST ALLEN             ALLEN                      TX   \n",
       "3       623             HOUSTON           HOUSTON                      TX   \n",
       "4      2277  ANDERSON TOWNE CTR        CINCINNATI                      OH   \n",
       "\n",
       "   MSA_CODE SEG_VALUE_NAME  PARKING_SPACE_QTY  SALES_AREA_SIZE_NUM  \\\n",
       "0     17140          VALUE              196.0                24721   \n",
       "1     17140     MAINSTREAM              408.0                46073   \n",
       "2     19100     MAINSTREAM              464.0                64926   \n",
       "3     26420     MAINSTREAM                NaN                46930   \n",
       "4     17140        UPSCALE                NaN                81958   \n",
       "\n",
       "   AVG_WEEKLY_BASKETS  \n",
       "0               12707  \n",
       "1               24767  \n",
       "2               29386  \n",
       "3               36741  \n",
       "4               54053  "
      ]
     },
     "execution_count": 171,
     "metadata": {},
     "output_type": "execute_result"
    }
   ],
   "source": [
    "#looking at first 5 records\n",
    "store_data.head()"
   ]
  },
  {
   "cell_type": "code",
   "execution_count": 172,
   "id": "2d6e3d8a",
   "metadata": {},
   "outputs": [
    {
     "data": {
      "text/plain": [
       "Index(['STORE_ID', 'STORE_NAME', 'ADDRESS_CITY_NAME',\n",
       "       'ADDRESS_STATE_PROV_CODE', 'MSA_CODE', 'SEG_VALUE_NAME',\n",
       "       'PARKING_SPACE_QTY', 'SALES_AREA_SIZE_NUM', 'AVG_WEEKLY_BASKETS'],\n",
       "      dtype='object')"
      ]
     },
     "execution_count": 172,
     "metadata": {},
     "output_type": "execute_result"
    }
   ],
   "source": [
    "store_data.columns"
   ]
  },
  {
   "cell_type": "code",
   "execution_count": 173,
   "id": "f4100a27",
   "metadata": {},
   "outputs": [
    {
     "data": {
      "text/plain": [
       "STORE_ID                     int64\n",
       "STORE_NAME                  object\n",
       "ADDRESS_CITY_NAME           object\n",
       "ADDRESS_STATE_PROV_CODE     object\n",
       "MSA_CODE                     int64\n",
       "SEG_VALUE_NAME              object\n",
       "PARKING_SPACE_QTY          float64\n",
       "SALES_AREA_SIZE_NUM          int64\n",
       "AVG_WEEKLY_BASKETS           int64\n",
       "dtype: object"
      ]
     },
     "execution_count": 173,
     "metadata": {},
     "output_type": "execute_result"
    }
   ],
   "source": [
    "store_data.dtypes\n"
   ]
  },
  {
   "cell_type": "markdown",
   "id": "b0e63b16",
   "metadata": {},
   "source": [
    "**Numerical Variables**\n",
    "- Check the distribution of the numerical variables\n",
    "- Are there any extreme values?\n",
    "- Are there any missingvalues in teh variables?\n"
   ]
  },
  {
   "cell_type": "markdown",
   "id": "7db670b0",
   "metadata": {},
   "source": [
    "**Categorical Varibales**\n",
    "- Check the unique values for the categorical variables\n",
    "- Are there any missing values in the variables?\n",
    "- Is there any variable with high cardinality/sparsity?\n"
   ]
  },
  {
   "cell_type": "markdown",
   "id": "1bf0bea1",
   "metadata": {},
   "source": [
    "### STORE_ID"
   ]
  },
  {
   "cell_type": "code",
   "execution_count": 174,
   "id": "cb9a6661",
   "metadata": {},
   "outputs": [
    {
     "data": {
      "text/plain": [
       "76"
      ]
     },
     "execution_count": 174,
     "metadata": {},
     "output_type": "execute_result"
    }
   ],
   "source": [
    "store_data['STORE_ID'].nunique()"
   ]
  },
  {
   "cell_type": "code",
   "execution_count": 176,
   "id": "3a481ab0",
   "metadata": {},
   "outputs": [
    {
     "data": {
      "text/plain": [
       "76"
      ]
     },
     "execution_count": 176,
     "metadata": {},
     "output_type": "execute_result"
    }
   ],
   "source": [
    "len(set(store_data.STORE_ID).intersection(set(train.STORE_NUM)))"
   ]
  },
  {
   "cell_type": "markdown",
   "id": "2fb2a36a",
   "metadata": {},
   "source": [
    "STORE_NUM"
   ]
  },
  {
   "cell_type": "code",
   "execution_count": 177,
   "id": "dbc59d9b",
   "metadata": {},
   "outputs": [
    {
     "data": {
      "text/plain": [
       "0"
      ]
     },
     "execution_count": 177,
     "metadata": {},
     "output_type": "execute_result"
    }
   ],
   "source": [
    "store_data['STORE_NAME'].isnull().sum()"
   ]
  },
  {
   "cell_type": "code",
   "execution_count": 180,
   "id": "b1291aa6",
   "metadata": {},
   "outputs": [
    {
     "data": {
      "text/plain": [
       "72"
      ]
     },
     "execution_count": 180,
     "metadata": {},
     "output_type": "execute_result"
    }
   ],
   "source": [
    "store_data['STORE_NAME'].nunique()"
   ]
  },
  {
   "cell_type": "markdown",
   "id": "00243fb0",
   "metadata": {},
   "source": [
    "So there are 76 stores but 72 store names. Lets find which store names are repeated"
   ]
  },
  {
   "cell_type": "code",
   "execution_count": 179,
   "id": "d7ed93ed",
   "metadata": {},
   "outputs": [
    {
     "data": {
      "text/plain": [
       "STORE_NAME\n",
       "HOUSTON            4\n",
       "MIDDLETOWN         2\n",
       "15TH & MADISON     1\n",
       "DUNCANVILLE        1\n",
       "WOOD FOREST S/C    1\n",
       "                  ..\n",
       "AT EASTEX FRWY     1\n",
       "DENT               1\n",
       "THE WOODLANDS      1\n",
       "LANDEN             1\n",
       "CARROLLTON         1\n",
       "Name: count, Length: 72, dtype: int64"
      ]
     },
     "execution_count": 179,
     "metadata": {},
     "output_type": "execute_result"
    }
   ],
   "source": [
    "store_data['STORE_NAME'].value_counts()"
   ]
  },
  {
   "cell_type": "markdown",
   "id": "0aa59bf5",
   "metadata": {},
   "source": [
    "Houston and middletown are repeated "
   ]
  },
  {
   "cell_type": "code",
   "execution_count": 181,
   "id": "0124dfd8",
   "metadata": {},
   "outputs": [
    {
     "data": {
      "text/html": [
       "<div>\n",
       "<style scoped>\n",
       "    .dataframe tbody tr th:only-of-type {\n",
       "        vertical-align: middle;\n",
       "    }\n",
       "\n",
       "    .dataframe tbody tr th {\n",
       "        vertical-align: top;\n",
       "    }\n",
       "\n",
       "    .dataframe thead th {\n",
       "        text-align: right;\n",
       "    }\n",
       "</style>\n",
       "<table border=\"1\" class=\"dataframe\">\n",
       "  <thead>\n",
       "    <tr style=\"text-align: right;\">\n",
       "      <th></th>\n",
       "      <th>STORE_ID</th>\n",
       "      <th>STORE_NAME</th>\n",
       "      <th>ADDRESS_CITY_NAME</th>\n",
       "      <th>ADDRESS_STATE_PROV_CODE</th>\n",
       "      <th>MSA_CODE</th>\n",
       "      <th>SEG_VALUE_NAME</th>\n",
       "      <th>PARKING_SPACE_QTY</th>\n",
       "      <th>SALES_AREA_SIZE_NUM</th>\n",
       "      <th>AVG_WEEKLY_BASKETS</th>\n",
       "    </tr>\n",
       "  </thead>\n",
       "  <tbody>\n",
       "    <tr>\n",
       "      <th>3</th>\n",
       "      <td>623</td>\n",
       "      <td>HOUSTON</td>\n",
       "      <td>HOUSTON</td>\n",
       "      <td>TX</td>\n",
       "      <td>26420</td>\n",
       "      <td>MAINSTREAM</td>\n",
       "      <td>NaN</td>\n",
       "      <td>46930</td>\n",
       "      <td>36741</td>\n",
       "    </tr>\n",
       "    <tr>\n",
       "      <th>9</th>\n",
       "      <td>2513</td>\n",
       "      <td>HOUSTON</td>\n",
       "      <td>HOUSTON</td>\n",
       "      <td>TX</td>\n",
       "      <td>26420</td>\n",
       "      <td>UPSCALE</td>\n",
       "      <td>NaN</td>\n",
       "      <td>61833</td>\n",
       "      <td>32423</td>\n",
       "    </tr>\n",
       "    <tr>\n",
       "      <th>54</th>\n",
       "      <td>21485</td>\n",
       "      <td>HOUSTON</td>\n",
       "      <td>KATY</td>\n",
       "      <td>TX</td>\n",
       "      <td>26420</td>\n",
       "      <td>MAINSTREAM</td>\n",
       "      <td>NaN</td>\n",
       "      <td>46369</td>\n",
       "      <td>26472</td>\n",
       "    </tr>\n",
       "    <tr>\n",
       "      <th>59</th>\n",
       "      <td>23327</td>\n",
       "      <td>HOUSTON</td>\n",
       "      <td>HOUSTON</td>\n",
       "      <td>TX</td>\n",
       "      <td>26420</td>\n",
       "      <td>MAINSTREAM</td>\n",
       "      <td>NaN</td>\n",
       "      <td>50722</td>\n",
       "      <td>30258</td>\n",
       "    </tr>\n",
       "  </tbody>\n",
       "</table>\n",
       "</div>"
      ],
      "text/plain": [
       "    STORE_ID STORE_NAME ADDRESS_CITY_NAME ADDRESS_STATE_PROV_CODE  MSA_CODE  \\\n",
       "3        623    HOUSTON           HOUSTON                      TX     26420   \n",
       "9       2513    HOUSTON           HOUSTON                      TX     26420   \n",
       "54     21485    HOUSTON              KATY                      TX     26420   \n",
       "59     23327    HOUSTON           HOUSTON                      TX     26420   \n",
       "\n",
       "   SEG_VALUE_NAME  PARKING_SPACE_QTY  SALES_AREA_SIZE_NUM  AVG_WEEKLY_BASKETS  \n",
       "3      MAINSTREAM                NaN                46930               36741  \n",
       "9         UPSCALE                NaN                61833               32423  \n",
       "54     MAINSTREAM                NaN                46369               26472  \n",
       "59     MAINSTREAM                NaN                50722               30258  "
      ]
     },
     "execution_count": 181,
     "metadata": {},
     "output_type": "execute_result"
    }
   ],
   "source": [
    "store_data[store_data['STORE_NAME']=='HOUSTON']"
   ]
  },
  {
   "cell_type": "code",
   "execution_count": 182,
   "id": "9bb4dc85",
   "metadata": {},
   "outputs": [
    {
     "data": {
      "text/html": [
       "<div>\n",
       "<style scoped>\n",
       "    .dataframe tbody tr th:only-of-type {\n",
       "        vertical-align: middle;\n",
       "    }\n",
       "\n",
       "    .dataframe tbody tr th {\n",
       "        vertical-align: top;\n",
       "    }\n",
       "\n",
       "    .dataframe thead th {\n",
       "        text-align: right;\n",
       "    }\n",
       "</style>\n",
       "<table border=\"1\" class=\"dataframe\">\n",
       "  <thead>\n",
       "    <tr style=\"text-align: right;\">\n",
       "      <th></th>\n",
       "      <th>STORE_ID</th>\n",
       "      <th>STORE_NAME</th>\n",
       "      <th>ADDRESS_CITY_NAME</th>\n",
       "      <th>ADDRESS_STATE_PROV_CODE</th>\n",
       "      <th>MSA_CODE</th>\n",
       "      <th>SEG_VALUE_NAME</th>\n",
       "      <th>PARKING_SPACE_QTY</th>\n",
       "      <th>SALES_AREA_SIZE_NUM</th>\n",
       "      <th>AVG_WEEKLY_BASKETS</th>\n",
       "    </tr>\n",
       "  </thead>\n",
       "  <tbody>\n",
       "    <tr>\n",
       "      <th>50</th>\n",
       "      <td>21221</td>\n",
       "      <td>MIDDLETOWN</td>\n",
       "      <td>MIDDLETOWN</td>\n",
       "      <td>OH</td>\n",
       "      <td>17140</td>\n",
       "      <td>VALUE</td>\n",
       "      <td>NaN</td>\n",
       "      <td>48128</td>\n",
       "      <td>17010</td>\n",
       "    </tr>\n",
       "    <tr>\n",
       "      <th>74</th>\n",
       "      <td>28909</td>\n",
       "      <td>MIDDLETOWN</td>\n",
       "      <td>MIDDLETOWN</td>\n",
       "      <td>OH</td>\n",
       "      <td>17140</td>\n",
       "      <td>MAINSTREAM</td>\n",
       "      <td>NaN</td>\n",
       "      <td>85876</td>\n",
       "      <td>28986</td>\n",
       "    </tr>\n",
       "  </tbody>\n",
       "</table>\n",
       "</div>"
      ],
      "text/plain": [
       "    STORE_ID  STORE_NAME ADDRESS_CITY_NAME ADDRESS_STATE_PROV_CODE  MSA_CODE  \\\n",
       "50     21221  MIDDLETOWN        MIDDLETOWN                      OH     17140   \n",
       "74     28909  MIDDLETOWN        MIDDLETOWN                      OH     17140   \n",
       "\n",
       "   SEG_VALUE_NAME  PARKING_SPACE_QTY  SALES_AREA_SIZE_NUM  AVG_WEEKLY_BASKETS  \n",
       "50          VALUE                NaN                48128               17010  \n",
       "74     MAINSTREAM                NaN                85876               28986  "
      ]
     },
     "execution_count": 182,
     "metadata": {},
     "output_type": "execute_result"
    }
   ],
   "source": [
    "store_data[store_data['STORE_NAME']=='MIDDLETOWN']"
   ]
  },
  {
   "cell_type": "markdown",
   "id": "b47ec6b0",
   "metadata": {},
   "source": [
    "The store names which are repeated are actually different stores which either have a different city or different segment (upscale, mainstream, value) or location. Hence they have different store ids\n"
   ]
  },
  {
   "cell_type": "code",
   "execution_count": 185,
   "id": "6b0fd494",
   "metadata": {},
   "outputs": [
    {
     "data": {
      "text/plain": [
       "ADDRESS_STATE_PROV_CODE    0\n",
       "ADDRESS_CITY_NAME          0\n",
       "dtype: int64"
      ]
     },
     "execution_count": 185,
     "metadata": {},
     "output_type": "execute_result"
    }
   ],
   "source": [
    "store_data[['ADDRESS_STATE_PROV_CODE','ADDRESS_CITY_NAME']].isnull().sum()"
   ]
  },
  {
   "cell_type": "code",
   "execution_count": 187,
   "id": "16f9d2a2",
   "metadata": {},
   "outputs": [
    {
     "data": {
      "text/plain": [
       "ADDRESS_STATE_PROV_CODE     4\n",
       "ADDRESS_CITY_NAME          51\n",
       "dtype: int64"
      ]
     },
     "execution_count": 187,
     "metadata": {},
     "output_type": "execute_result"
    }
   ],
   "source": [
    "store_data[['ADDRESS_STATE_PROV_CODE','ADDRESS_CITY_NAME']].nunique()"
   ]
  },
  {
   "cell_type": "markdown",
   "id": "75a8c190",
   "metadata": {},
   "source": [
    "There are 4 states and a total of 51 cities"
   ]
  },
  {
   "cell_type": "code",
   "execution_count": 188,
   "id": "0ed39d55",
   "metadata": {},
   "outputs": [
    {
     "data": {
      "text/plain": [
       "ADDRESS_STATE_PROV_CODE\n",
       "IN     1\n",
       "KY     4\n",
       "OH    30\n",
       "TX    41\n",
       "Name: STORE_ID, dtype: int64"
      ]
     },
     "execution_count": 188,
     "metadata": {},
     "output_type": "execute_result"
    }
   ],
   "source": [
    "store_data.groupby(['ADDRESS_STATE_PROV_CODE'])['STORE_ID'].count()"
   ]
  },
  {
   "cell_type": "markdown",
   "id": "dc9007e4",
   "metadata": {},
   "source": [
    "- Each store has a unique store id\n",
    "- Most stores are from Ohio and Texas - 93%\n",
    "- Few from Kentucky and Indiana 7%"
   ]
  },
  {
   "cell_type": "code",
   "execution_count": 189,
   "id": "37e4424d",
   "metadata": {},
   "outputs": [
    {
     "data": {
      "text/plain": [
       "ADDRESS_STATE_PROV_CODE\n",
       "IN     1\n",
       "KY     3\n",
       "OH    16\n",
       "TX    31\n",
       "Name: ADDRESS_CITY_NAME, dtype: int64"
      ]
     },
     "execution_count": 189,
     "metadata": {},
     "output_type": "execute_result"
    }
   ],
   "source": [
    "store_data.groupby(['ADDRESS_STATE_PROV_CODE'])['ADDRESS_CITY_NAME'].nunique()"
   ]
  },
  {
   "cell_type": "markdown",
   "id": "c90db68a",
   "metadata": {},
   "source": [
    "- There are 41 stores in Texas located in 31 cities\n",
    "- There are 30 stores in Ohio located in 16 cities\n",
    "- 4 stores in Kentucky located in 3 cities\n",
    "- 1 store in Indiana in 1 city"
   ]
  },
  {
   "cell_type": "code",
   "execution_count": 190,
   "id": "d7123b91",
   "metadata": {},
   "outputs": [
    {
     "data": {
      "text/plain": [
       "ADDRESS_CITY_NAME\n",
       "CINCINNATI         9\n",
       "HOUSTON            8\n",
       "MIDDLETOWN         3\n",
       "COVINGTON          2\n",
       "SUGAR LAND         2\n",
       "LOVELAND           2\n",
       "MAINEVILLE         2\n",
       "HAMILTON           2\n",
       "KATY               2\n",
       "MCKINNEY           2\n",
       "DAYTON             2\n",
       "CROWLEY            1\n",
       "GOSHEN             1\n",
       "PASADENA           1\n",
       "WOODLANDS          1\n",
       "MESQUITE           1\n",
       "SPRINGFIELD        1\n",
       "FLOWER MOUND       1\n",
       "SOUTHLAKE          1\n",
       "FRISCO             1\n",
       "WEST CHESTER       1\n",
       "DENTON             1\n",
       "CYPRESS            1\n",
       "LEBANON            1\n",
       "RICHARDSON         1\n",
       "GARLAND            1\n",
       "KETTERING          1\n",
       "DUNCANVILLE        1\n",
       "VANDALIA           1\n",
       "MAGNOLIA           1\n",
       "BEAUMONT           1\n",
       "ALLEN              1\n",
       "MILFORD            1\n",
       "BLUE ASH           1\n",
       "CLUTE              1\n",
       "DICKINSON          1\n",
       "GRAND PRAIRIE      1\n",
       "ARLINGTON          1\n",
       "LAWRENCEBURG       1\n",
       "ROCKWALL           1\n",
       "COLLEGE STATION    1\n",
       "MASON              1\n",
       "SAINT MARYS        1\n",
       "KINGWOOD           1\n",
       "BAYTOWN            1\n",
       "THE WOODLANDS      1\n",
       "INDEPENDENCE       1\n",
       "DALLAS             1\n",
       "SHERMAN            1\n",
       "ERLANGER           1\n",
       "CARROLLTON         1\n",
       "Name: count, dtype: int64"
      ]
     },
     "execution_count": 190,
     "metadata": {},
     "output_type": "execute_result"
    }
   ],
   "source": [
    "store_data['ADDRESS_CITY_NAME'].value_counts()"
   ]
  },
  {
   "cell_type": "code",
   "execution_count": 191,
   "id": "decf68f5",
   "metadata": {},
   "outputs": [],
   "source": [
    "# CINCINNATI , HOUSTON, MIDDLETOWN have 9, 8 and  3 stores respectivelu. All the other cities have 2 or 1 stores\n"
   ]
  },
  {
   "cell_type": "markdown",
   "id": "49fcfa2f",
   "metadata": {},
   "source": [
    "This variable has a very high cardinality, since we have 51 cities within 4 states"
   ]
  },
  {
   "cell_type": "markdown",
   "id": "60a7f1bb",
   "metadata": {},
   "source": [
    "MSA_CODE"
   ]
  },
  {
   "cell_type": "code",
   "execution_count": 192,
   "id": "24ee59ad",
   "metadata": {},
   "outputs": [
    {
     "data": {
      "text/plain": [
       "0"
      ]
     },
     "execution_count": 192,
     "metadata": {},
     "output_type": "execute_result"
    }
   ],
   "source": [
    "store_data['MSA_CODE'].isnull().sum()"
   ]
  },
  {
   "cell_type": "code",
   "execution_count": 194,
   "id": "0449c8ea",
   "metadata": {},
   "outputs": [
    {
     "data": {
      "text/plain": [
       "(9, array([17140, 19100, 26420, 17780, 47540, 43300, 19380, 13140, 44220]))"
      ]
     },
     "execution_count": 194,
     "metadata": {},
     "output_type": "execute_result"
    }
   ],
   "source": [
    "store_data['MSA_CODE'].nunique(), store_data['MSA_CODE'].unique()"
   ]
  },
  {
   "cell_type": "code",
   "execution_count": 195,
   "id": "04eefc57",
   "metadata": {},
   "outputs": [
    {
     "data": {
      "text/plain": [
       "MSA_CODE\n",
       "17140    29\n",
       "26420    21\n",
       "19100    17\n",
       "19380     4\n",
       "17780     1\n",
       "47540     1\n",
       "43300     1\n",
       "13140     1\n",
       "44220     1\n",
       "Name: count, dtype: int64"
      ]
     },
     "execution_count": 195,
     "metadata": {},
     "output_type": "execute_result"
    }
   ],
   "source": [
    "store_data['MSA_CODE'].value_counts()"
   ]
  },
  {
   "cell_type": "markdown",
   "id": "41dd045c",
   "metadata": {},
   "source": [
    "17140 is a popular code"
   ]
  },
  {
   "cell_type": "code",
   "execution_count": 196,
   "id": "1fb61e9e",
   "metadata": {},
   "outputs": [
    {
     "data": {
      "text/plain": [
       "MSA_CODE  ADDRESS_STATE_PROV_CODE\n",
       "13140     TX                          1\n",
       "17140     IN                          1\n",
       "          KY                          4\n",
       "          OH                         24\n",
       "17780     TX                          1\n",
       "19100     TX                         17\n",
       "19380     OH                          4\n",
       "26420     TX                         21\n",
       "43300     TX                          1\n",
       "44220     OH                          1\n",
       "47540     OH                          1\n",
       "Name: STORE_ID, dtype: int64"
      ]
     },
     "execution_count": 196,
     "metadata": {},
     "output_type": "execute_result"
    }
   ],
   "source": [
    "store_data.groupby(['MSA_CODE','ADDRESS_STATE_PROV_CODE'])['STORE_ID'].count()"
   ]
  },
  {
   "cell_type": "markdown",
   "id": "7a5f8afa",
   "metadata": {},
   "source": [
    "- These codes are assigned based on geographical location and population density\n",
    "- 17140 code is present in all 3 except Texas and it falls in different geographical region"
   ]
  },
  {
   "cell_type": "code",
   "execution_count": 198,
   "id": "2a5906a2",
   "metadata": {},
   "outputs": [
    {
     "data": {
      "text/plain": [
       "Index(['STORE_ID', 'STORE_NAME', 'ADDRESS_CITY_NAME',\n",
       "       'ADDRESS_STATE_PROV_CODE', 'MSA_CODE', 'SEG_VALUE_NAME',\n",
       "       'PARKING_SPACE_QTY', 'SALES_AREA_SIZE_NUM', 'AVG_WEEKLY_BASKETS'],\n",
       "      dtype='object')"
      ]
     },
     "execution_count": 198,
     "metadata": {},
     "output_type": "execute_result"
    }
   ],
   "source": [
    "store_data.columns"
   ]
  },
  {
   "cell_type": "markdown",
   "id": "cfb9d746",
   "metadata": {},
   "source": [
    "PARKING_SPACE_QTY and SALES_AREA_SIZE_NUM"
   ]
  },
  {
   "cell_type": "code",
   "execution_count": 200,
   "id": "61dd7fa6",
   "metadata": {},
   "outputs": [
    {
     "data": {
      "text/plain": [
       "PARKING_SPACE_QTY      51\n",
       "SALES_AREA_SIZE_NUM     0\n",
       "dtype: int64"
      ]
     },
     "execution_count": 200,
     "metadata": {},
     "output_type": "execute_result"
    }
   ],
   "source": [
    "store_data[['PARKING_SPACE_QTY', 'SALES_AREA_SIZE_NUM']].isnull().sum()"
   ]
  },
  {
   "cell_type": "markdown",
   "id": "e0a2d5f4",
   "metadata": {},
   "source": [
    "Out of 76 stores, 51 stores have no data for parking"
   ]
  },
  {
   "cell_type": "code",
   "execution_count": 208,
   "id": "1223d6b8",
   "metadata": {},
   "outputs": [
    {
     "data": {
      "image/png": "[encoded data removed]",
      "text/plain": [
       "<Figure size 800x600 with 1 Axes>"
      ]
     },
     "metadata": {},
     "output_type": "display_data"
    }
   ],
   "source": [
    "plt.figure(figsize=(8,6))\n",
    "sns.distplot(store_data['PARKING_SPACE_QTY'], bins=25,kde=False)\n",
    "plt.xlabel('PARKING Area Size')\n",
    "plt.show()"
   ]
  },
  {
   "cell_type": "markdown",
   "id": "9150ef48",
   "metadata": {},
   "source": [
    "- Most of stores do not have parking space\n",
    "- Stores which have parking space have 250- 500 units of parking area\n",
    "- Very few stores have > 750 parking units"
   ]
  },
  {
   "cell_type": "code",
   "execution_count": 210,
   "id": "7057df59",
   "metadata": {},
   "outputs": [
    {
     "data": {
      "image/png": "[encoded data removed]",
      "text/plain": [
       "<Figure size 800x600 with 1 Axes>"
      ]
     },
     "metadata": {},
     "output_type": "display_data"
    }
   ],
   "source": [
    "plt.figure(figsize=(8,6))\n",
    "sns.distplot(store_data['SALES_AREA_SIZE_NUM'], bins=25,kde=True)\n",
    "plt.xlabel('Sales Area Size (Sq Feet)')\n",
    "plt.show()"
   ]
  },
  {
   "cell_type": "markdown",
   "id": "ed05d89e",
   "metadata": {},
   "source": [
    "- Most of the stores have area between 30000 to 70000 sq feet\n",
    "- Very few stores have area less than 30K or above 80K"
   ]
  },
  {
   "cell_type": "code",
   "execution_count": 212,
   "id": "898c6680",
   "metadata": {},
   "outputs": [
    {
     "data": {
      "text/plain": [
       "ADDRESS_STATE_PROV_CODE\n",
       "IN    58563.000000\n",
       "OH    52691.200000\n",
       "TX    46920.902439\n",
       "KY    39855.500000\n",
       "Name: SALES_AREA_SIZE_NUM, dtype: float64"
      ]
     },
     "execution_count": 212,
     "metadata": {},
     "output_type": "execute_result"
    }
   ],
   "source": [
    "store_data.groupby(['ADDRESS_STATE_PROV_CODE'])['SALES_AREA_SIZE_NUM'].mean().sort_values(ascending=False)"
   ]
  },
  {
   "cell_type": "markdown",
   "id": "68126fcc",
   "metadata": {},
   "source": [
    "IN has only 1 store and the area is 58K\n",
    "OH and TX have an avg store size of 52k and 46K, while KY has an avg store area of 40K"
   ]
  },
  {
   "cell_type": "code",
   "execution_count": 214,
   "id": "fe03184b",
   "metadata": {},
   "outputs": [],
   "source": [
    "state_oh = store_data[store_data['ADDRESS_STATE_PROV_CODE']=='OH']\n",
    "state_tx = store_data[store_data['ADDRESS_STATE_PROV_CODE']=='TX']"
   ]
  },
  {
   "cell_type": "code",
   "execution_count": 215,
   "id": "81ce96ec",
   "metadata": {},
   "outputs": [
    {
     "data": {
      "text/plain": [
       "<Axes: xlabel='SALES_AREA_SIZE_NUM', ylabel='Density'>"
      ]
     },
     "execution_count": 215,
     "metadata": {},
     "output_type": "execute_result"
    },
    {
     "data": {
      "image/png": "[encoded data removed]",
      "text/plain": [
       "<Figure size 640x480 with 1 Axes>"
      ]
     },
     "metadata": {},
     "output_type": "display_data"
    }
   ],
   "source": [
    "sns.distplot(state_oh['SALES_AREA_SIZE_NUM'], hist=False, color='dodgerblue', label='OHIO')\n",
    "sns.distplot(state_tx['SALES_AREA_SIZE_NUM'], hist=False, color='orange',label='Texas')"
   ]
  },
  {
   "cell_type": "markdown",
   "id": "fd095eb3",
   "metadata": {},
   "source": [
    "- Indiana has only one store and the area is 58K\n",
    "- Ohio and Texas have avg around 52k and 50K\n",
    "- Ohio has stores distributed at all sizes\n",
    "- Texas has stores between 30K to 60K sq ft of area"
   ]
  },
  {
   "cell_type": "markdown",
   "id": "3e72402b",
   "metadata": {},
   "source": [
    "AVG_WEEKLY_BASKETS"
   ]
  },
  {
   "cell_type": "code",
   "execution_count": 216,
   "id": "9065d588",
   "metadata": {},
   "outputs": [
    {
     "data": {
      "text/plain": [
       "0"
      ]
     },
     "execution_count": 216,
     "metadata": {},
     "output_type": "execute_result"
    }
   ],
   "source": [
    "store_data['AVG_WEEKLY_BASKETS'].isnull().sum()"
   ]
  },
  {
   "cell_type": "code",
   "execution_count": 217,
   "id": "8f0cbd4f",
   "metadata": {},
   "outputs": [
    {
     "data": {
      "text/plain": [
       "count       76.000000\n",
       "mean     24226.921053\n",
       "std       8863.939362\n",
       "min      10435.000000\n",
       "25%      16983.500000\n",
       "50%      24667.500000\n",
       "75%      29398.500000\n",
       "max      54053.000000\n",
       "Name: AVG_WEEKLY_BASKETS, dtype: float64"
      ]
     },
     "execution_count": 217,
     "metadata": {},
     "output_type": "execute_result"
    }
   ],
   "source": [
    "store_data['AVG_WEEKLY_BASKETS'].describe()"
   ]
  },
  {
   "cell_type": "markdown",
   "id": "73f0f4b5",
   "metadata": {},
   "source": [
    "The minimum baskets sold are ~10K and the max goes arnd 54K\n"
   ]
  },
  {
   "cell_type": "code",
   "execution_count": 219,
   "id": "11882b20",
   "metadata": {},
   "outputs": [
    {
     "data": {
      "image/png": "[encoded data removed]",
      "text/plain": [
       "<Figure size 800x600 with 1 Axes>"
      ]
     },
     "metadata": {},
     "output_type": "display_data"
    }
   ],
   "source": [
    "plt.figure(figsize=(8,6))\n",
    "sns.distplot(store_data['AVG_WEEKLY_BASKETS'], kde=True, bins=25)\n",
    "plt.xlabel('Avg Baskets sold per week')\n",
    "plt.show()"
   ]
  },
  {
   "cell_type": "markdown",
   "id": "e0375e0f",
   "metadata": {},
   "source": [
    "What are the avg baskets sold for different states"
   ]
  },
  {
   "cell_type": "code",
   "execution_count": 220,
   "id": "bc229b72",
   "metadata": {},
   "outputs": [
    {
     "data": {
      "text/plain": [
       "ADDRESS_STATE_PROV_CODE\n",
       "OH    26113.766667\n",
       "TX    23234.195122\n",
       "KY    21489.000000\n",
       "IN    19275.000000\n",
       "Name: AVG_WEEKLY_BASKETS, dtype: float64"
      ]
     },
     "execution_count": 220,
     "metadata": {},
     "output_type": "execute_result"
    }
   ],
   "source": [
    "store_data.groupby(['ADDRESS_STATE_PROV_CODE'])['AVG_WEEKLY_BASKETS'].mean().sort_values(ascending=False)"
   ]
  },
  {
   "cell_type": "markdown",
   "id": "175348f7",
   "metadata": {},
   "source": [
    "OH has avg of 26K \n",
    "TX has avg of 23K\n",
    "KY has avg of 21K\n",
    "IN has one store with avg of 19k"
   ]
  },
  {
   "cell_type": "markdown",
   "id": "4d36a65d",
   "metadata": {},
   "source": [
    "SEG_VALUE_NAME"
   ]
  },
  {
   "cell_type": "markdown",
   "id": "329cc67f",
   "metadata": {},
   "source": [
    "The feature depends on the neighbourhood and the quality of the products"
   ]
  },
  {
   "cell_type": "code",
   "execution_count": 223,
   "id": "dc38ad04",
   "metadata": {},
   "outputs": [
    {
     "data": {
      "text/plain": [
       "0"
      ]
     },
     "execution_count": 223,
     "metadata": {},
     "output_type": "execute_result"
    }
   ],
   "source": [
    "store_data['SEG_VALUE_NAME'].isnull().sum()"
   ]
  },
  {
   "cell_type": "markdown",
   "id": "467a2cbb",
   "metadata": {},
   "source": [
    "There are certain segments assigned to store, based on the brand and quality of the products sold at the store.\n",
    "\n",
    "- Upscale stores: Located in high income neighbourhoods and offer more high end product\n",
    "- Mainstream stores: Located in middle class areas, offering a mix of upscale and value product\n",
    "- Value stores: Focus on low prices products targetiing low income customers"
   ]
  },
  {
   "cell_type": "markdown",
   "id": "a10bb9ba",
   "metadata": {},
   "source": [
    "Lets look at the distribution of stores in each of the segment"
   ]
  },
  {
   "cell_type": "code",
   "execution_count": 224,
   "id": "e107db8a",
   "metadata": {},
   "outputs": [
    {
     "data": {
      "text/plain": [
       "SEG_VALUE_NAME\n",
       "MAINSTREAM    43\n",
       "VALUE         19\n",
       "UPSCALE       14\n",
       "Name: count, dtype: int64"
      ]
     },
     "execution_count": 224,
     "metadata": {},
     "output_type": "execute_result"
    }
   ],
   "source": [
    "store_data['SEG_VALUE_NAME'].value_counts()"
   ]
  },
  {
   "cell_type": "code",
   "execution_count": 225,
   "id": "83087a99",
   "metadata": {},
   "outputs": [
    {
     "data": {
      "text/plain": [
       "Index(['STORE_ID', 'STORE_NAME', 'ADDRESS_CITY_NAME',\n",
       "       'ADDRESS_STATE_PROV_CODE', 'MSA_CODE', 'SEG_VALUE_NAME',\n",
       "       'PARKING_SPACE_QTY', 'SALES_AREA_SIZE_NUM', 'AVG_WEEKLY_BASKETS'],\n",
       "      dtype='object')"
      ]
     },
     "execution_count": 225,
     "metadata": {},
     "output_type": "execute_result"
    }
   ],
   "source": [
    "store_data.columns"
   ]
  },
  {
   "cell_type": "markdown",
   "id": "1581df00",
   "metadata": {},
   "source": [
    "Does the segment has any relation with store area?"
   ]
  },
  {
   "cell_type": "markdown",
   "id": "77d1fadc",
   "metadata": {},
   "source": [
    "Is there a difference in the avergae ales fro each segmnet?"
   ]
  },
  {
   "cell_type": "code",
   "execution_count": 226,
   "id": "6e7d5348",
   "metadata": {},
   "outputs": [
    {
     "data": {
      "text/plain": [
       "SEG_VALUE_NAME\n",
       "UPSCALE       59556.428571\n",
       "MAINSTREAM    50075.976744\n",
       "VALUE         38706.368421\n",
       "Name: SALES_AREA_SIZE_NUM, dtype: float64"
      ]
     },
     "execution_count": 226,
     "metadata": {},
     "output_type": "execute_result"
    }
   ],
   "source": [
    "store_data.groupby(['SEG_VALUE_NAME'])['SALES_AREA_SIZE_NUM'].mean().sort_values(ascending=False)"
   ]
  },
  {
   "cell_type": "markdown",
   "id": "c66fcc4a",
   "metadata": {},
   "source": [
    "upscale stores have hugh area while the value has less area"
   ]
  },
  {
   "cell_type": "code",
   "execution_count": 227,
   "id": "f94b52b3",
   "metadata": {},
   "outputs": [
    {
     "data": {
      "text/plain": [
       "SEG_VALUE_NAME\n",
       "UPSCALE       28735.928571\n",
       "MAINSTREAM    24024.093023\n",
       "VALUE         21363.526316\n",
       "Name: AVG_WEEKLY_BASKETS, dtype: float64"
      ]
     },
     "execution_count": 227,
     "metadata": {},
     "output_type": "execute_result"
    }
   ],
   "source": [
    "store_data.groupby(['SEG_VALUE_NAME'])['AVG_WEEKLY_BASKETS'].mean().sort_values(ascending=False)"
   ]
  },
  {
   "cell_type": "markdown",
   "id": "00c81c40",
   "metadata": {},
   "source": [
    "Not so much difference here but still upsclae has higher baskets sold, whereas value has lower baskets sold"
   ]
  },
  {
   "cell_type": "code",
   "execution_count": null,
   "id": "6500c536",
   "metadata": {},
   "outputs": [],
   "source": []
  }
 ],
 "metadata": {
  "kernelspec": {
   "display_name": "Python 3 (ipykernel)",
   "language": "python",
   "name": "python3"
  },
  "language_info": {
   "codemirror_mode": {
    "name": "ipython",
    "version": 3
   },
   "file_extension": ".py",
   "mimetype": "text/x-python",
   "name": "python",
   "nbconvert_exporter": "python",
   "pygments_lexer": "ipython3",
   "version": "3.11.5"
  }
 },
 "nbformat": 4,
 "nbformat_minor": 5
}
